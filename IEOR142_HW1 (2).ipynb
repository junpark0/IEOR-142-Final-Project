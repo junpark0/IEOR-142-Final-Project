{
 "cells": [
  {
   "cell_type": "code",
   "execution_count": 3,
   "id": "97141d36",
   "metadata": {},
   "outputs": [],
   "source": [
    "import pandas as pd\n",
    "import numpy as np\n",
    "import matplotlib.pyplot as plt\n",
    "import sklearn\n",
    "import sklearn.datasets\n",
    "import sklearn.linear_model as lm\n",
    "from sklearn.base import BaseEstimator\n",
    "from sklearn.metrics import r2_score\n",
    "from sklearn.metrics import accuracy_score\n",
    "from sklearn.model_selection import train_test_split\n",
    "import statsmodels.api as sm\n",
    "from statsmodels.stats.outliers_influence import variance_inflation_factor\n",
    "import statsmodels.formula.api as smf"
   ]
  },
  {
   "cell_type": "code",
   "execution_count": 4,
   "id": "84061266",
   "metadata": {
    "scrolled": true
   },
   "outputs": [
    {
     "data": {
      "text/html": [
       "<div>\n",
       "<style scoped>\n",
       "    .dataframe tbody tr th:only-of-type {\n",
       "        vertical-align: middle;\n",
       "    }\n",
       "\n",
       "    .dataframe tbody tr th {\n",
       "        vertical-align: top;\n",
       "    }\n",
       "\n",
       "    .dataframe thead th {\n",
       "        text-align: right;\n",
       "    }\n",
       "</style>\n",
       "<table border=\"1\" class=\"dataframe\">\n",
       "  <thead>\n",
       "    <tr style=\"text-align: right;\">\n",
       "      <th></th>\n",
       "      <th>MonthNumeric</th>\n",
       "      <th>MonthFactor</th>\n",
       "      <th>Year</th>\n",
       "      <th>RogueSales</th>\n",
       "      <th>Unemployment</th>\n",
       "      <th>RogueQueries</th>\n",
       "      <th>CPIAll</th>\n",
       "      <th>CPIEnergy</th>\n",
       "    </tr>\n",
       "  </thead>\n",
       "  <tbody>\n",
       "    <tr>\n",
       "      <th>0</th>\n",
       "      <td>1</td>\n",
       "      <td>January</td>\n",
       "      <td>2008</td>\n",
       "      <td>5435</td>\n",
       "      <td>5.0</td>\n",
       "      <td>18</td>\n",
       "      <td>212.174</td>\n",
       "      <td>226.775</td>\n",
       "    </tr>\n",
       "    <tr>\n",
       "      <th>1</th>\n",
       "      <td>2</td>\n",
       "      <td>February</td>\n",
       "      <td>2008</td>\n",
       "      <td>5223</td>\n",
       "      <td>4.9</td>\n",
       "      <td>11</td>\n",
       "      <td>212.687</td>\n",
       "      <td>229.731</td>\n",
       "    </tr>\n",
       "    <tr>\n",
       "      <th>2</th>\n",
       "      <td>3</td>\n",
       "      <td>March</td>\n",
       "      <td>2008</td>\n",
       "      <td>6873</td>\n",
       "      <td>5.1</td>\n",
       "      <td>18</td>\n",
       "      <td>213.448</td>\n",
       "      <td>233.349</td>\n",
       "    </tr>\n",
       "    <tr>\n",
       "      <th>3</th>\n",
       "      <td>4</td>\n",
       "      <td>April</td>\n",
       "      <td>2008</td>\n",
       "      <td>5814</td>\n",
       "      <td>5.0</td>\n",
       "      <td>17</td>\n",
       "      <td>213.942</td>\n",
       "      <td>234.778</td>\n",
       "    </tr>\n",
       "    <tr>\n",
       "      <th>4</th>\n",
       "      <td>5</td>\n",
       "      <td>May</td>\n",
       "      <td>2008</td>\n",
       "      <td>7467</td>\n",
       "      <td>5.4</td>\n",
       "      <td>17</td>\n",
       "      <td>215.208</td>\n",
       "      <td>243.924</td>\n",
       "    </tr>\n",
       "    <tr>\n",
       "      <th>...</th>\n",
       "      <td>...</td>\n",
       "      <td>...</td>\n",
       "      <td>...</td>\n",
       "      <td>...</td>\n",
       "      <td>...</td>\n",
       "      <td>...</td>\n",
       "      <td>...</td>\n",
       "      <td>...</td>\n",
       "    </tr>\n",
       "    <tr>\n",
       "      <th>157</th>\n",
       "      <td>2</td>\n",
       "      <td>February</td>\n",
       "      <td>2021</td>\n",
       "      <td>27750</td>\n",
       "      <td>6.2</td>\n",
       "      <td>95</td>\n",
       "      <td>263.161</td>\n",
       "      <td>218.946</td>\n",
       "    </tr>\n",
       "    <tr>\n",
       "      <th>158</th>\n",
       "      <td>3</td>\n",
       "      <td>March</td>\n",
       "      <td>2021</td>\n",
       "      <td>31219</td>\n",
       "      <td>6.0</td>\n",
       "      <td>100</td>\n",
       "      <td>264.793</td>\n",
       "      <td>229.886</td>\n",
       "    </tr>\n",
       "    <tr>\n",
       "      <th>159</th>\n",
       "      <td>4</td>\n",
       "      <td>April</td>\n",
       "      <td>2021</td>\n",
       "      <td>32270</td>\n",
       "      <td>6.1</td>\n",
       "      <td>100</td>\n",
       "      <td>266.832</td>\n",
       "      <td>229.658</td>\n",
       "    </tr>\n",
       "    <tr>\n",
       "      <th>160</th>\n",
       "      <td>5</td>\n",
       "      <td>May</td>\n",
       "      <td>2021</td>\n",
       "      <td>31029</td>\n",
       "      <td>5.8</td>\n",
       "      <td>96</td>\n",
       "      <td>268.551</td>\n",
       "      <td>229.630</td>\n",
       "    </tr>\n",
       "    <tr>\n",
       "      <th>161</th>\n",
       "      <td>6</td>\n",
       "      <td>June</td>\n",
       "      <td>2021</td>\n",
       "      <td>32270</td>\n",
       "      <td>5.9</td>\n",
       "      <td>100</td>\n",
       "      <td>270.981</td>\n",
       "      <td>232.995</td>\n",
       "    </tr>\n",
       "  </tbody>\n",
       "</table>\n",
       "<p>162 rows × 8 columns</p>\n",
       "</div>"
      ],
      "text/plain": [
       "     MonthNumeric MonthFactor  Year  RogueSales  Unemployment  RogueQueries  \\\n",
       "0               1     January  2008        5435           5.0            18   \n",
       "1               2    February  2008        5223           4.9            11   \n",
       "2               3       March  2008        6873           5.1            18   \n",
       "3               4       April  2008        5814           5.0            17   \n",
       "4               5         May  2008        7467           5.4            17   \n",
       "..            ...         ...   ...         ...           ...           ...   \n",
       "157             2    February  2021       27750           6.2            95   \n",
       "158             3       March  2021       31219           6.0           100   \n",
       "159             4       April  2021       32270           6.1           100   \n",
       "160             5         May  2021       31029           5.8            96   \n",
       "161             6        June  2021       32270           5.9           100   \n",
       "\n",
       "      CPIAll  CPIEnergy  \n",
       "0    212.174    226.775  \n",
       "1    212.687    229.731  \n",
       "2    213.448    233.349  \n",
       "3    213.942    234.778  \n",
       "4    215.208    243.924  \n",
       "..       ...        ...  \n",
       "157  263.161    218.946  \n",
       "158  264.793    229.886  \n",
       "159  266.832    229.658  \n",
       "160  268.551    229.630  \n",
       "161  270.981    232.995  \n",
       "\n",
       "[162 rows x 8 columns]"
      ]
     },
     "execution_count": 4,
     "metadata": {},
     "output_type": "execute_result"
    }
   ],
   "source": [
    "rogue_data = pd.read_csv('Rogue-142-Fall2021.csv')\n",
    "rogue_data"
   ]
  },
  {
   "cell_type": "markdown",
   "id": "5efada93",
   "metadata": {},
   "source": [
    "## 1a)"
   ]
  },
  {
   "cell_type": "code",
   "execution_count": 5,
   "id": "e6e3406f",
   "metadata": {},
   "outputs": [
    {
     "data": {
      "text/html": [
       "<div>\n",
       "<style scoped>\n",
       "    .dataframe tbody tr th:only-of-type {\n",
       "        vertical-align: middle;\n",
       "    }\n",
       "\n",
       "    .dataframe tbody tr th {\n",
       "        vertical-align: top;\n",
       "    }\n",
       "\n",
       "    .dataframe thead th {\n",
       "        text-align: right;\n",
       "    }\n",
       "</style>\n",
       "<table border=\"1\" class=\"dataframe\">\n",
       "  <thead>\n",
       "    <tr style=\"text-align: right;\">\n",
       "      <th></th>\n",
       "      <th>Unemployment</th>\n",
       "      <th>RogueQueries</th>\n",
       "      <th>CPIEnergy</th>\n",
       "      <th>CPIAll</th>\n",
       "      <th>RogueSales</th>\n",
       "    </tr>\n",
       "  </thead>\n",
       "  <tbody>\n",
       "    <tr>\n",
       "      <th>0</th>\n",
       "      <td>5.0</td>\n",
       "      <td>18</td>\n",
       "      <td>226.775</td>\n",
       "      <td>212.174</td>\n",
       "      <td>5435</td>\n",
       "    </tr>\n",
       "    <tr>\n",
       "      <th>1</th>\n",
       "      <td>4.9</td>\n",
       "      <td>11</td>\n",
       "      <td>229.731</td>\n",
       "      <td>212.687</td>\n",
       "      <td>5223</td>\n",
       "    </tr>\n",
       "    <tr>\n",
       "      <th>2</th>\n",
       "      <td>5.1</td>\n",
       "      <td>18</td>\n",
       "      <td>233.349</td>\n",
       "      <td>213.448</td>\n",
       "      <td>6873</td>\n",
       "    </tr>\n",
       "    <tr>\n",
       "      <th>3</th>\n",
       "      <td>5.0</td>\n",
       "      <td>17</td>\n",
       "      <td>234.778</td>\n",
       "      <td>213.942</td>\n",
       "      <td>5814</td>\n",
       "    </tr>\n",
       "    <tr>\n",
       "      <th>4</th>\n",
       "      <td>5.4</td>\n",
       "      <td>17</td>\n",
       "      <td>243.924</td>\n",
       "      <td>215.208</td>\n",
       "      <td>7467</td>\n",
       "    </tr>\n",
       "  </tbody>\n",
       "</table>\n",
       "</div>"
      ],
      "text/plain": [
       "   Unemployment  RogueQueries  CPIEnergy   CPIAll  RogueSales\n",
       "0           5.0            18    226.775  212.174        5435\n",
       "1           4.9            11    229.731  212.687        5223\n",
       "2           5.1            18    233.349  213.448        6873\n",
       "3           5.0            17    234.778  213.942        5814\n",
       "4           5.4            17    243.924  215.208        7467"
      ]
     },
     "metadata": {},
     "output_type": "display_data"
    },
    {
     "data": {
      "text/html": [
       "<div>\n",
       "<style scoped>\n",
       "    .dataframe tbody tr th:only-of-type {\n",
       "        vertical-align: middle;\n",
       "    }\n",
       "\n",
       "    .dataframe tbody tr th {\n",
       "        vertical-align: top;\n",
       "    }\n",
       "\n",
       "    .dataframe thead th {\n",
       "        text-align: right;\n",
       "    }\n",
       "</style>\n",
       "<table border=\"1\" class=\"dataframe\">\n",
       "  <thead>\n",
       "    <tr style=\"text-align: right;\">\n",
       "      <th></th>\n",
       "      <th>MonthFactor</th>\n",
       "      <th>Unemployment</th>\n",
       "      <th>RogueQueries</th>\n",
       "      <th>CPIEnergy</th>\n",
       "      <th>CPIAll</th>\n",
       "      <th>RogueSales</th>\n",
       "    </tr>\n",
       "  </thead>\n",
       "  <tbody>\n",
       "    <tr>\n",
       "      <th>96</th>\n",
       "      <td>January</td>\n",
       "      <td>4.8</td>\n",
       "      <td>50</td>\n",
       "      <td>185.235</td>\n",
       "      <td>237.652</td>\n",
       "      <td>19762</td>\n",
       "    </tr>\n",
       "    <tr>\n",
       "      <th>97</th>\n",
       "      <td>February</td>\n",
       "      <td>4.9</td>\n",
       "      <td>52</td>\n",
       "      <td>176.401</td>\n",
       "      <td>237.336</td>\n",
       "      <td>21561</td>\n",
       "    </tr>\n",
       "    <tr>\n",
       "      <th>98</th>\n",
       "      <td>March</td>\n",
       "      <td>5.0</td>\n",
       "      <td>48</td>\n",
       "      <td>182.234</td>\n",
       "      <td>238.080</td>\n",
       "      <td>27713</td>\n",
       "    </tr>\n",
       "    <tr>\n",
       "      <th>99</th>\n",
       "      <td>April</td>\n",
       "      <td>5.1</td>\n",
       "      <td>46</td>\n",
       "      <td>186.713</td>\n",
       "      <td>238.992</td>\n",
       "      <td>23173</td>\n",
       "    </tr>\n",
       "    <tr>\n",
       "      <th>100</th>\n",
       "      <td>May</td>\n",
       "      <td>4.8</td>\n",
       "      <td>51</td>\n",
       "      <td>188.596</td>\n",
       "      <td>239.557</td>\n",
       "      <td>27428</td>\n",
       "    </tr>\n",
       "  </tbody>\n",
       "</table>\n",
       "</div>"
      ],
      "text/plain": [
       "    MonthFactor  Unemployment  RogueQueries  CPIEnergy   CPIAll  RogueSales\n",
       "96      January           4.8            50    185.235  237.652       19762\n",
       "97     February           4.9            52    176.401  237.336       21561\n",
       "98        March           5.0            48    182.234  238.080       27713\n",
       "99        April           5.1            46    186.713  238.992       23173\n",
       "100         May           4.8            51    188.596  239.557       27428"
      ]
     },
     "metadata": {},
     "output_type": "display_data"
    },
    {
     "data": {
      "text/html": [
       "<div>\n",
       "<style scoped>\n",
       "    .dataframe tbody tr th:only-of-type {\n",
       "        vertical-align: middle;\n",
       "    }\n",
       "\n",
       "    .dataframe tbody tr th {\n",
       "        vertical-align: top;\n",
       "    }\n",
       "\n",
       "    .dataframe thead th {\n",
       "        text-align: right;\n",
       "    }\n",
       "</style>\n",
       "<table border=\"1\" class=\"dataframe\">\n",
       "  <thead>\n",
       "    <tr style=\"text-align: right;\">\n",
       "      <th></th>\n",
       "      <th>MonthFactor</th>\n",
       "      <th>Unemployment</th>\n",
       "      <th>RogueQueries</th>\n",
       "      <th>CPIEnergy</th>\n",
       "      <th>CPIAll</th>\n",
       "      <th>RogueSales</th>\n",
       "    </tr>\n",
       "  </thead>\n",
       "  <tbody>\n",
       "    <tr>\n",
       "      <th>144</th>\n",
       "      <td>January</td>\n",
       "      <td>3.5</td>\n",
       "      <td>78</td>\n",
       "      <td>219.117</td>\n",
       "      <td>258.687</td>\n",
       "      <td>19396</td>\n",
       "    </tr>\n",
       "    <tr>\n",
       "      <th>145</th>\n",
       "      <td>February</td>\n",
       "      <td>3.5</td>\n",
       "      <td>80</td>\n",
       "      <td>213.963</td>\n",
       "      <td>258.824</td>\n",
       "      <td>25111</td>\n",
       "    </tr>\n",
       "    <tr>\n",
       "      <th>146</th>\n",
       "      <td>March</td>\n",
       "      <td>4.4</td>\n",
       "      <td>58</td>\n",
       "      <td>202.995</td>\n",
       "      <td>257.989</td>\n",
       "      <td>15210</td>\n",
       "    </tr>\n",
       "    <tr>\n",
       "      <th>147</th>\n",
       "      <td>April</td>\n",
       "      <td>14.8</td>\n",
       "      <td>45</td>\n",
       "      <td>183.788</td>\n",
       "      <td>256.192</td>\n",
       "      <td>8505</td>\n",
       "    </tr>\n",
       "    <tr>\n",
       "      <th>148</th>\n",
       "      <td>May</td>\n",
       "      <td>13.3</td>\n",
       "      <td>67</td>\n",
       "      <td>179.610</td>\n",
       "      <td>255.942</td>\n",
       "      <td>18900</td>\n",
       "    </tr>\n",
       "  </tbody>\n",
       "</table>\n",
       "</div>"
      ],
      "text/plain": [
       "    MonthFactor  Unemployment  RogueQueries  CPIEnergy   CPIAll  RogueSales\n",
       "144     January           3.5            78    219.117  258.687       19396\n",
       "145    February           3.5            80    213.963  258.824       25111\n",
       "146       March           4.4            58    202.995  257.989       15210\n",
       "147       April          14.8            45    183.788  256.192        8505\n",
       "148         May          13.3            67    179.610  255.942       18900"
      ]
     },
     "metadata": {},
     "output_type": "display_data"
    }
   ],
   "source": [
    "rogue_train = rogue_data[rogue_data['Year'] <= 2015][['Unemployment', 'RogueQueries', 'CPIEnergy', 'CPIAll','RogueSales']]\n",
    "##rogue_val = rogue_data[rogue_data['Year'] <= 2015][['RogueSales']]\n",
    "rogue_test_A = rogue_data[(rogue_data['Year'] > 2015) & (rogue_data['Year'] <= 2019)][['MonthFactor','Unemployment', 'RogueQueries', 'CPIEnergy', 'CPIAll','RogueSales']]\n",
    "rogue_test_B = rogue_data[rogue_data['Year'] > 2019][['MonthFactor','Unemployment', 'RogueQueries', 'CPIEnergy', 'CPIAll','RogueSales']]\n",
    "\n",
    "display(rogue_train.head(), rogue_test_A.head(), rogue_test_B.head())"
   ]
  },
  {
   "cell_type": "code",
   "execution_count": 6,
   "id": "ee4d0340",
   "metadata": {},
   "outputs": [
    {
     "data": {
      "text/plain": [
       "81"
      ]
     },
     "metadata": {},
     "output_type": "display_data"
    },
    {
     "data": {
      "text/plain": [
       "15"
      ]
     },
     "metadata": {},
     "output_type": "display_data"
    }
   ],
   "source": [
    "train, val = train_test_split(rogue_train, test_size = 0.15, random_state = 42)\n",
    "display(len(train), len(val))"
   ]
  },
  {
   "cell_type": "code",
   "execution_count": 7,
   "id": "d14ad0f0",
   "metadata": {
    "scrolled": true
   },
   "outputs": [
    {
     "name": "stdout",
     "output_type": "stream",
     "text": [
      "                            OLS Regression Results                            \n",
      "==============================================================================\n",
      "Dep. Variable:             RogueSales   R-squared:                       0.785\n",
      "Model:                            OLS   Adj. R-squared:                  0.774\n",
      "Method:                 Least Squares   F-statistic:                     69.51\n",
      "Date:                Wed, 22 Sep 2021   Prob (F-statistic):           1.25e-24\n",
      "Time:                        18:33:31   Log-Likelihood:                -761.86\n",
      "No. Observations:                  81   AIC:                             1534.\n",
      "Df Residuals:                      76   BIC:                             1546.\n",
      "Df Model:                           4                                         \n",
      "Covariance Type:            nonrobust                                         \n",
      "================================================================================\n",
      "                   coef    std err          t      P>|t|      [0.025      0.975]\n",
      "--------------------------------------------------------------------------------\n",
      "Intercept    -6.895e+04    1.7e+04     -4.049      0.000   -1.03e+05    -3.5e+04\n",
      "Unemployment  -128.0029    298.442     -0.429      0.669    -722.402     466.397\n",
      "RogueQueries   184.0376     70.079      2.626      0.010      44.464     323.612\n",
      "CPIEnergy      -65.7678     18.147     -3.624      0.001    -101.911     -29.625\n",
      "CPIAll         407.9559     92.759      4.398      0.000     223.210     592.702\n",
      "==============================================================================\n",
      "Omnibus:                       55.777   Durbin-Watson:                   1.769\n",
      "Prob(Omnibus):                  0.000   Jarque-Bera (JB):              373.388\n",
      "Skew:                           1.925   Prob(JB):                     8.31e-82\n",
      "Kurtosis:                      12.788   Cond. No.                     1.63e+04\n",
      "==============================================================================\n",
      "\n",
      "Notes:\n",
      "[1] Standard Errors assume that the covariance matrix of the errors is correctly specified.\n",
      "[2] The condition number is large, 1.63e+04. This might indicate that there are\n",
      "strong multicollinearity or other numerical problems.\n"
     ]
    }
   ],
   "source": [
    "ols_1 = smf.ols(formula = 'RogueSales ~ Unemployment + RogueQueries + CPIEnergy + CPIAll', data = train)\n",
    "model_1 = ols_1.fit()\n",
    "print(model_1.summary())"
   ]
  },
  {
   "cell_type": "code",
   "execution_count": 8,
   "id": "cac6459a",
   "metadata": {},
   "outputs": [
    {
     "name": "stderr",
     "output_type": "stream",
     "text": [
      "/opt/conda/lib/python3.9/site-packages/statsmodels/tsa/tsatools.py:142: FutureWarning: In a future version of pandas all arguments of concat except for the argument 'objs' will be keyword-only\n",
      "  x = pd.concat(x[::order], 1)\n"
     ]
    },
    {
     "data": {
      "text/plain": [
       "Unemployment    2.031353\n",
       "RogueQueries    6.805939\n",
       "CPIEnergy       1.649399\n",
       "CPIAll          5.615907\n",
       "dtype: float64"
      ]
     },
     "execution_count": 8,
     "metadata": {},
     "output_type": "execute_result"
    }
   ],
   "source": [
    "def VIF(df, columns):\n",
    "    values = sm.add_constant(df[columns]).values\n",
    "    num_columns = len(columns)+1\n",
    "    vif = [variance_inflation_factor(values, i) for i in range(num_columns)]\n",
    "    return pd.Series(vif[1:], index=columns)\n",
    "\n",
    "cols = ['Unemployment', 'RogueQueries', 'CPIEnergy', 'CPIAll']\n",
    "VIF(train, cols)"
   ]
  },
  {
   "cell_type": "code",
   "execution_count": 9,
   "id": "4412d6d1",
   "metadata": {},
   "outputs": [
    {
     "name": "stdout",
     "output_type": "stream",
     "text": [
      "                            OLS Regression Results                            \n",
      "==============================================================================\n",
      "Dep. Variable:             RogueSales   R-squared:                       0.766\n",
      "Model:                            OLS   Adj. R-squared:                  0.757\n",
      "Method:                 Least Squares   F-statistic:                     83.95\n",
      "Date:                Wed, 22 Sep 2021   Prob (F-statistic):           3.30e-24\n",
      "Time:                        18:33:31   Log-Likelihood:                -765.38\n",
      "No. Observations:                  81   AIC:                             1539.\n",
      "Df Residuals:                      77   BIC:                             1548.\n",
      "Df Model:                           3                                         \n",
      "Covariance Type:            nonrobust                                         \n",
      "================================================================================\n",
      "                   coef    std err          t      P>|t|      [0.025      0.975]\n",
      "--------------------------------------------------------------------------------\n",
      "Intercept    -1.015e+05   1.21e+04     -8.390      0.000   -1.26e+05   -7.74e+04\n",
      "Unemployment  -557.4248    259.043     -2.152      0.035   -1073.245     -41.605\n",
      "CPIEnergy      -92.6373     15.551     -5.957      0.000    -123.604     -61.671\n",
      "CPIAll         614.7388     50.876     12.083      0.000     513.431     716.047\n",
      "==============================================================================\n",
      "Omnibus:                       43.787   Durbin-Watson:                   1.778\n",
      "Prob(Omnibus):                  0.000   Jarque-Bera (JB):              192.447\n",
      "Skew:                           1.574   Prob(JB):                     1.62e-42\n",
      "Kurtosis:                       9.864   Cond. No.                     1.11e+04\n",
      "==============================================================================\n",
      "\n",
      "Notes:\n",
      "[1] Standard Errors assume that the covariance matrix of the errors is correctly specified.\n",
      "[2] The condition number is large, 1.11e+04. This might indicate that there are\n",
      "strong multicollinearity or other numerical problems.\n"
     ]
    },
    {
     "name": "stderr",
     "output_type": "stream",
     "text": [
      "/opt/conda/lib/python3.9/site-packages/statsmodels/tsa/tsatools.py:142: FutureWarning: In a future version of pandas all arguments of concat except for the argument 'objs' will be keyword-only\n",
      "  x = pd.concat(x[::order], 1)\n"
     ]
    },
    {
     "data": {
      "text/plain": [
       "Unemployment    1.421546\n",
       "CPIEnergy       1.125091\n",
       "CPIAll          1.569258\n",
       "dtype: float64"
      ]
     },
     "execution_count": 9,
     "metadata": {},
     "output_type": "execute_result"
    }
   ],
   "source": [
    "ols_2 = smf.ols(formula = 'RogueSales ~ Unemployment + CPIEnergy + CPIAll', data = train)\n",
    "model_2 = ols_2.fit()\n",
    "print(model_2.summary())\n",
    "\n",
    "cols = ['Unemployment', 'CPIEnergy', 'CPIAll']\n",
    "VIF(train, cols)"
   ]
  },
  {
   "cell_type": "code",
   "execution_count": 23,
   "id": "78503428",
   "metadata": {},
   "outputs": [],
   "source": [
    "def OSR2(model, df_train, df_test, dependent_var):   \n",
    "    y_test = df_test[dependent_var]\n",
    "    y_pred = model.predict(df_test)\n",
    "    SSE = np.sum((y_test - y_pred)**2)\n",
    "    SST = np.sum((y_test - np.mean(df_train[dependent_var]))**2)    \n",
    "    return 1 - SSE/SST"
   ]
  },
  {
   "cell_type": "code",
   "execution_count": 11,
   "id": "015b9c03",
   "metadata": {},
   "outputs": [
    {
     "data": {
      "text/plain": [
       "0.8448826212090333"
      ]
     },
     "execution_count": 11,
     "metadata": {},
     "output_type": "execute_result"
    }
   ],
   "source": [
    "OSR2(model_2, train, val, 'RogueSales')"
   ]
  },
  {
   "cell_type": "code",
   "execution_count": 12,
   "id": "95bf3c72",
   "metadata": {},
   "outputs": [
    {
     "data": {
      "text/plain": [
       "0.8872523114510952"
      ]
     },
     "execution_count": 12,
     "metadata": {},
     "output_type": "execute_result"
    }
   ],
   "source": [
    "OSR2(model_2, train, rogue_test_A, 'RogueSales')"
   ]
  },
  {
   "cell_type": "code",
   "execution_count": 13,
   "id": "9efb1236",
   "metadata": {},
   "outputs": [
    {
     "data": {
      "text/plain": [
       "-0.2535698276625966"
      ]
     },
     "execution_count": 13,
     "metadata": {},
     "output_type": "execute_result"
    }
   ],
   "source": [
    "OSR2(model_2, train, rogue_test_B, 'RogueSales')"
   ]
  },
  {
   "cell_type": "markdown",
   "id": "ef3a78b4",
   "metadata": {},
   "source": [
    "## 1b)"
   ]
  },
  {
   "cell_type": "code",
   "execution_count": 14,
   "id": "0f7a6163",
   "metadata": {},
   "outputs": [],
   "source": [
    "rogue_train_month = rogue_data[rogue_data['Year'] <= 2015][['MonthFactor','Unemployment', 'RogueQueries', 'CPIEnergy', 'CPIAll','RogueSales']]\n",
    "train_month, val_month = train_test_split(rogue_train_month, test_size = 0.15, random_state = 42)\n"
   ]
  },
  {
   "cell_type": "code",
   "execution_count": 22,
   "id": "fbe7bd97",
   "metadata": {
    "scrolled": true
   },
   "outputs": [
    {
     "name": "stdout",
     "output_type": "stream",
     "text": [
      "                            OLS Regression Results                            \n",
      "==============================================================================\n",
      "Dep. Variable:             RogueSales   R-squared:                       0.844\n",
      "Model:                            OLS   Adj. R-squared:                  0.808\n",
      "Method:                 Least Squares   F-statistic:                     23.50\n",
      "Date:                Wed, 22 Sep 2021   Prob (F-statistic):           1.40e-20\n",
      "Time:                        18:35:43   Log-Likelihood:                -748.84\n",
      "No. Observations:                  81   AIC:                             1530.\n",
      "Df Residuals:                      65   BIC:                             1568.\n",
      "Df Model:                          15                                         \n",
      "Covariance Type:            nonrobust                                         \n",
      "============================================================================================\n",
      "                               coef    std err          t      P>|t|      [0.025      0.975]\n",
      "--------------------------------------------------------------------------------------------\n",
      "Intercept                -8.284e+04   1.69e+04     -4.890      0.000   -1.17e+05    -4.9e+04\n",
      "MonthFactor[T.August]     3023.6103   1549.505      1.951      0.055     -70.965    6118.185\n",
      "MonthFactor[T.Decemeber]   982.7678   1411.467      0.696      0.489   -1836.127    3801.663\n",
      "MonthFactor[T.February]   3174.8387   1450.175      2.189      0.032     278.638    6071.039\n",
      "MonthFactor[T.January]   -1468.5908   1469.225     -1.000      0.321   -4402.835    1465.654\n",
      "MonthFactor[T.July]       1169.6868   1640.235      0.713      0.478   -2106.089    4445.462\n",
      "MonthFactor[T.June]        844.9693   1455.994      0.580      0.564   -2062.852    3752.791\n",
      "MonthFactor[T.March]      3911.9523   1410.841      2.773      0.007    1094.309    6729.596\n",
      "MonthFactor[T.May]        2092.5236   1520.649      1.376      0.174    -944.423    5129.470\n",
      "MonthFactor[T.November]   -406.4724   1530.083     -0.266      0.791   -3462.258    2649.313\n",
      "MonthFactor[T.October]     104.2897   1523.468      0.068      0.946   -2938.285    3146.865\n",
      "MonthFactor[T.Septeber]    688.2772   1450.162      0.475      0.637   -2207.897    3584.451\n",
      "Unemployment              -120.1559    285.963     -0.420      0.676    -691.264     450.952\n",
      "RogueQueries               143.9363     71.781      2.005      0.049       0.580     287.293\n",
      "CPIEnergy                  -73.6315     17.976     -4.096      0.000    -109.533     -37.730\n",
      "CPIAll                     476.3531     93.776      5.080      0.000     289.070     663.636\n",
      "==============================================================================\n",
      "Omnibus:                       56.332   Durbin-Watson:                   1.834\n",
      "Prob(Omnibus):                  0.000   Jarque-Bera (JB):              393.556\n",
      "Skew:                           1.930   Prob(JB):                     3.47e-86\n",
      "Kurtosis:                      13.085   Cond. No.                     1.76e+04\n",
      "==============================================================================\n",
      "\n",
      "Notes:\n",
      "[1] Standard Errors assume that the covariance matrix of the errors is correctly specified.\n",
      "[2] The condition number is large, 1.76e+04. This might indicate that there are\n",
      "strong multicollinearity or other numerical problems.\n"
     ]
    }
   ],
   "source": [
    "ols_3 = smf.ols(formula = 'RogueSales ~ MonthFactor + Unemployment + RogueQueries + CPIEnergy + CPIAll', data = train_month)\n",
    "model_3 = ols_3.fit()\n",
    "print(model_3.summary())"
   ]
  },
  {
   "cell_type": "code",
   "execution_count": 16,
   "id": "94b87b8a",
   "metadata": {},
   "outputs": [
    {
     "data": {
      "text/plain": [
       "0.8678036276015989"
      ]
     },
     "execution_count": 16,
     "metadata": {},
     "output_type": "execute_result"
    }
   ],
   "source": [
    "OSR2(model_3, train_month, val_month, 'RogueSales')"
   ]
  },
  {
   "cell_type": "code",
   "execution_count": 17,
   "id": "a801c287",
   "metadata": {},
   "outputs": [
    {
     "data": {
      "text/plain": [
       "0.90763329508117"
      ]
     },
     "execution_count": 17,
     "metadata": {},
     "output_type": "execute_result"
    }
   ],
   "source": [
    "OSR2(model_3, train_month, rogue_test_A, 'RogueSales')"
   ]
  },
  {
   "cell_type": "code",
   "execution_count": 18,
   "id": "0c8bf8e3",
   "metadata": {},
   "outputs": [
    {
     "data": {
      "text/plain": [
       "-0.7553925283349923"
      ]
     },
     "execution_count": 18,
     "metadata": {},
     "output_type": "execute_result"
    }
   ],
   "source": [
    "OSR2(model_3, train_month, rogue_test_B, 'RogueSales')"
   ]
  },
  {
   "cell_type": "markdown",
   "id": "464df4c0",
   "metadata": {},
   "source": [
    "## 1c)"
   ]
  },
  {
   "cell_type": "code",
   "execution_count": 24,
   "id": "1f3c18e1",
   "metadata": {},
   "outputs": [],
   "source": [
    "rogue_train_comb = rogue_data[rogue_data['Year'] <= 2015][['MonthFactor', 'Unemployment', 'CPIEnergy', 'CPIAll','RogueSales']]\n",
    "train_comb, val_comb = train_test_split(rogue_train_month, test_size = 0.15, random_state = 42)\n"
   ]
  },
  {
   "cell_type": "code",
   "execution_count": 25,
   "id": "70e136cc",
   "metadata": {},
   "outputs": [
    {
     "name": "stdout",
     "output_type": "stream",
     "text": [
      "                            OLS Regression Results                            \n",
      "==============================================================================\n",
      "Dep. Variable:             RogueSales   R-squared:                       0.835\n",
      "Model:                            OLS   Adj. R-squared:                  0.800\n",
      "Method:                 Least Squares   F-statistic:                     23.80\n",
      "Date:                Wed, 22 Sep 2021   Prob (F-statistic):           1.83e-20\n",
      "Time:                        18:59:41   Log-Likelihood:                -751.28\n",
      "No. Observations:                  81   AIC:                             1533.\n",
      "Df Residuals:                      66   BIC:                             1568.\n",
      "Df Model:                          14                                         \n",
      "Covariance Type:            nonrobust                                         \n",
      "============================================================================================\n",
      "                               coef    std err          t      P>|t|      [0.025      0.975]\n",
      "--------------------------------------------------------------------------------------------\n",
      "Intercept                -1.087e+05   1.12e+04     -9.687      0.000   -1.31e+05   -8.63e+04\n",
      "MonthFactor[T.August]     3677.8491   1549.044      2.374      0.021     585.083    6770.616\n",
      "MonthFactor[T.Decemeber]   733.5937   1437.804      0.510      0.612   -2137.074    3604.262\n",
      "MonthFactor[T.February]   3127.7219   1482.798      2.109      0.039     167.221    6088.223\n",
      "MonthFactor[T.January]   -1018.6889   1484.850     -0.686      0.495   -3983.288    1945.911\n",
      "MonthFactor[T.July]       1696.5574   1655.692      1.025      0.309   -1609.138    5002.253\n",
      "MonthFactor[T.June]       1142.7921   1481.176      0.772      0.443   -1814.471    4100.055\n",
      "MonthFactor[T.March]      4289.0040   1429.896      3.000      0.004    1434.124    7143.884\n",
      "MonthFactor[T.May]        2243.6198   1553.151      1.445      0.153    -857.346    5344.586\n",
      "MonthFactor[T.November]   -636.8345   1560.291     -0.408      0.684   -3752.056    2478.387\n",
      "MonthFactor[T.October]    -247.2019   1547.596     -0.160      0.874   -3337.078    2842.674\n",
      "MonthFactor[T.Septeber]    758.1069   1482.551      0.511      0.611   -2201.902    3718.116\n",
      "Unemployment              -444.7334    241.077     -1.845      0.070    -926.058      36.592\n",
      "CPIEnergy                  -95.8967     14.457     -6.633      0.000    -124.761     -67.032\n",
      "CPIAll                     640.1081     47.139     13.579      0.000     545.992     734.224\n",
      "==============================================================================\n",
      "Omnibus:                       47.578   Durbin-Watson:                   1.884\n",
      "Prob(Omnibus):                  0.000   Jarque-Bera (JB):              266.740\n",
      "Skew:                           1.628   Prob(JB):                     1.20e-58\n",
      "Kurtosis:                      11.272   Cond. No.                     1.14e+04\n",
      "==============================================================================\n",
      "\n",
      "Notes:\n",
      "[1] Standard Errors assume that the covariance matrix of the errors is correctly specified.\n",
      "[2] The condition number is large, 1.14e+04. This might indicate that there are\n",
      "strong multicollinearity or other numerical problems.\n"
     ]
    }
   ],
   "source": [
    "ols_4 = smf.ols(formula = 'RogueSales ~ MonthFactor + Unemployment + CPIEnergy + CPIAll', data = train_comb)\n",
    "model_4 = ols_4.fit()\n",
    "print(model_4.summary())"
   ]
  },
  {
   "cell_type": "code",
   "execution_count": 26,
   "id": "270a1082",
   "metadata": {},
   "outputs": [
    {
     "data": {
      "text/plain": [
       "0.8943409970710554"
      ]
     },
     "execution_count": 26,
     "metadata": {},
     "output_type": "execute_result"
    }
   ],
   "source": [
    "OSR2(model_4, train_comb, val_comb, 'RogueSales')"
   ]
  },
  {
   "cell_type": "code",
   "execution_count": 27,
   "id": "ca20afe2",
   "metadata": {},
   "outputs": [
    {
     "data": {
      "text/plain": [
       "0.9015844060375029"
      ]
     },
     "execution_count": 27,
     "metadata": {},
     "output_type": "execute_result"
    }
   ],
   "source": [
    "OSR2(model_4, train_comb, rogue_test_A, 'RogueSales')"
   ]
  },
  {
   "cell_type": "code",
   "execution_count": 28,
   "id": "5314e25a",
   "metadata": {},
   "outputs": [
    {
     "data": {
      "text/plain": [
       "-0.439865503143672"
      ]
     },
     "execution_count": 28,
     "metadata": {},
     "output_type": "execute_result"
    }
   ],
   "source": [
    "OSR2(model_4, train_comb, rogue_test_B, 'RogueSales')"
   ]
  },
  {
   "cell_type": "markdown",
   "id": "fee168db",
   "metadata": {},
   "source": [
    "## 1d)"
   ]
  },
  {
   "cell_type": "code",
   "execution_count": 22,
   "id": "df5ad685",
   "metadata": {
    "scrolled": true
   },
   "outputs": [
    {
     "data": {
      "text/html": [
       "<div>\n",
       "<style scoped>\n",
       "    .dataframe tbody tr th:only-of-type {\n",
       "        vertical-align: middle;\n",
       "    }\n",
       "\n",
       "    .dataframe tbody tr th {\n",
       "        vertical-align: top;\n",
       "    }\n",
       "\n",
       "    .dataframe thead th {\n",
       "        text-align: right;\n",
       "    }\n",
       "</style>\n",
       "<table border=\"1\" class=\"dataframe\">\n",
       "  <thead>\n",
       "    <tr style=\"text-align: right;\">\n",
       "      <th></th>\n",
       "      <th>MonthNumeric</th>\n",
       "      <th>MonthFactor</th>\n",
       "      <th>Year</th>\n",
       "      <th>InventoryToSales</th>\n",
       "    </tr>\n",
       "  </thead>\n",
       "  <tbody>\n",
       "    <tr>\n",
       "      <th>0</th>\n",
       "      <td>1</td>\n",
       "      <td>January</td>\n",
       "      <td>2009</td>\n",
       "      <td>4.64</td>\n",
       "    </tr>\n",
       "    <tr>\n",
       "      <th>1</th>\n",
       "      <td>2</td>\n",
       "      <td>February</td>\n",
       "      <td>2009</td>\n",
       "      <td>4.57</td>\n",
       "    </tr>\n",
       "    <tr>\n",
       "      <th>2</th>\n",
       "      <td>3</td>\n",
       "      <td>March</td>\n",
       "      <td>2009</td>\n",
       "      <td>4.09</td>\n",
       "    </tr>\n",
       "    <tr>\n",
       "      <th>3</th>\n",
       "      <td>4</td>\n",
       "      <td>April</td>\n",
       "      <td>2009</td>\n",
       "      <td>4.01</td>\n",
       "    </tr>\n",
       "    <tr>\n",
       "      <th>4</th>\n",
       "      <td>5</td>\n",
       "      <td>May</td>\n",
       "      <td>2009</td>\n",
       "      <td>3.58</td>\n",
       "    </tr>\n",
       "    <tr>\n",
       "      <th>...</th>\n",
       "      <td>...</td>\n",
       "      <td>...</td>\n",
       "      <td>...</td>\n",
       "      <td>...</td>\n",
       "    </tr>\n",
       "    <tr>\n",
       "      <th>143</th>\n",
       "      <td>12</td>\n",
       "      <td>December</td>\n",
       "      <td>2020</td>\n",
       "      <td>1.88</td>\n",
       "    </tr>\n",
       "    <tr>\n",
       "      <th>144</th>\n",
       "      <td>1</td>\n",
       "      <td>January</td>\n",
       "      <td>2021</td>\n",
       "      <td>1.76</td>\n",
       "    </tr>\n",
       "    <tr>\n",
       "      <th>145</th>\n",
       "      <td>2</td>\n",
       "      <td>February</td>\n",
       "      <td>2021</td>\n",
       "      <td>1.84</td>\n",
       "    </tr>\n",
       "    <tr>\n",
       "      <th>146</th>\n",
       "      <td>3</td>\n",
       "      <td>March</td>\n",
       "      <td>2021</td>\n",
       "      <td>1.35</td>\n",
       "    </tr>\n",
       "    <tr>\n",
       "      <th>147</th>\n",
       "      <td>4</td>\n",
       "      <td>April</td>\n",
       "      <td>2021</td>\n",
       "      <td>1.03</td>\n",
       "    </tr>\n",
       "  </tbody>\n",
       "</table>\n",
       "<p>148 rows × 4 columns</p>\n",
       "</div>"
      ],
      "text/plain": [
       "     MonthNumeric MonthFactor  Year  InventoryToSales\n",
       "0               1     January  2009              4.64\n",
       "1               2    February  2009              4.57\n",
       "2               3       March  2009              4.09\n",
       "3               4       April  2009              4.01\n",
       "4               5         May  2009              3.58\n",
       "..            ...         ...   ...               ...\n",
       "143            12    December  2020              1.88\n",
       "144             1     January  2021              1.76\n",
       "145             2    February  2021              1.84\n",
       "146             3       March  2021              1.35\n",
       "147             4       April  2021              1.03\n",
       "\n",
       "[148 rows x 4 columns]"
      ]
     },
     "execution_count": 22,
     "metadata": {},
     "output_type": "execute_result"
    }
   ],
   "source": [
    "inv_sales_ratio = pd.read_csv('inventory_sales.csv')\n",
    "inv_sales_ratio"
   ]
  },
  {
   "cell_type": "code",
   "execution_count": 23,
   "id": "8557b0e0",
   "metadata": {},
   "outputs": [
    {
     "data": {
      "text/html": [
       "<div>\n",
       "<style scoped>\n",
       "    .dataframe tbody tr th:only-of-type {\n",
       "        vertical-align: middle;\n",
       "    }\n",
       "\n",
       "    .dataframe tbody tr th {\n",
       "        vertical-align: top;\n",
       "    }\n",
       "\n",
       "    .dataframe thead th {\n",
       "        text-align: right;\n",
       "    }\n",
       "</style>\n",
       "<table border=\"1\" class=\"dataframe\">\n",
       "  <thead>\n",
       "    <tr style=\"text-align: right;\">\n",
       "      <th></th>\n",
       "      <th>index</th>\n",
       "      <th>MonthNumeric</th>\n",
       "      <th>MonthFactor</th>\n",
       "      <th>Year</th>\n",
       "      <th>RogueSales</th>\n",
       "      <th>Unemployment</th>\n",
       "      <th>RogueQueries</th>\n",
       "      <th>CPIAll</th>\n",
       "      <th>CPIEnergy</th>\n",
       "      <th>InventoryToSalesRatio</th>\n",
       "    </tr>\n",
       "  </thead>\n",
       "  <tbody>\n",
       "    <tr>\n",
       "      <th>0</th>\n",
       "      <td>12</td>\n",
       "      <td>1</td>\n",
       "      <td>January</td>\n",
       "      <td>2009</td>\n",
       "      <td>5802</td>\n",
       "      <td>7.8</td>\n",
       "      <td>15</td>\n",
       "      <td>211.933</td>\n",
       "      <td>178.661</td>\n",
       "      <td>4.64</td>\n",
       "    </tr>\n",
       "    <tr>\n",
       "      <th>1</th>\n",
       "      <td>13</td>\n",
       "      <td>2</td>\n",
       "      <td>February</td>\n",
       "      <td>2009</td>\n",
       "      <td>5515</td>\n",
       "      <td>8.3</td>\n",
       "      <td>13</td>\n",
       "      <td>212.705</td>\n",
       "      <td>183.721</td>\n",
       "      <td>4.57</td>\n",
       "    </tr>\n",
       "    <tr>\n",
       "      <th>2</th>\n",
       "      <td>14</td>\n",
       "      <td>3</td>\n",
       "      <td>March</td>\n",
       "      <td>2009</td>\n",
       "      <td>6982</td>\n",
       "      <td>8.7</td>\n",
       "      <td>14</td>\n",
       "      <td>212.495</td>\n",
       "      <td>178.415</td>\n",
       "      <td>4.09</td>\n",
       "    </tr>\n",
       "    <tr>\n",
       "      <th>3</th>\n",
       "      <td>15</td>\n",
       "      <td>4</td>\n",
       "      <td>April</td>\n",
       "      <td>2009</td>\n",
       "      <td>4758</td>\n",
       "      <td>9.0</td>\n",
       "      <td>14</td>\n",
       "      <td>212.709</td>\n",
       "      <td>177.552</td>\n",
       "      <td>4.01</td>\n",
       "    </tr>\n",
       "    <tr>\n",
       "      <th>4</th>\n",
       "      <td>16</td>\n",
       "      <td>5</td>\n",
       "      <td>May</td>\n",
       "      <td>2009</td>\n",
       "      <td>8287</td>\n",
       "      <td>9.4</td>\n",
       "      <td>11</td>\n",
       "      <td>213.022</td>\n",
       "      <td>179.830</td>\n",
       "      <td>3.58</td>\n",
       "    </tr>\n",
       "    <tr>\n",
       "      <th>...</th>\n",
       "      <td>...</td>\n",
       "      <td>...</td>\n",
       "      <td>...</td>\n",
       "      <td>...</td>\n",
       "      <td>...</td>\n",
       "      <td>...</td>\n",
       "      <td>...</td>\n",
       "      <td>...</td>\n",
       "      <td>...</td>\n",
       "      <td>...</td>\n",
       "    </tr>\n",
       "    <tr>\n",
       "      <th>143</th>\n",
       "      <td>155</td>\n",
       "      <td>12</td>\n",
       "      <td>Decemeber</td>\n",
       "      <td>2020</td>\n",
       "      <td>23338</td>\n",
       "      <td>6.7</td>\n",
       "      <td>91</td>\n",
       "      <td>261.560</td>\n",
       "      <td>203.716</td>\n",
       "      <td>1.88</td>\n",
       "    </tr>\n",
       "    <tr>\n",
       "      <th>144</th>\n",
       "      <td>156</td>\n",
       "      <td>1</td>\n",
       "      <td>January</td>\n",
       "      <td>2021</td>\n",
       "      <td>27750</td>\n",
       "      <td>6.3</td>\n",
       "      <td>90</td>\n",
       "      <td>262.231</td>\n",
       "      <td>210.822</td>\n",
       "      <td>1.76</td>\n",
       "    </tr>\n",
       "    <tr>\n",
       "      <th>145</th>\n",
       "      <td>157</td>\n",
       "      <td>2</td>\n",
       "      <td>February</td>\n",
       "      <td>2021</td>\n",
       "      <td>27750</td>\n",
       "      <td>6.2</td>\n",
       "      <td>95</td>\n",
       "      <td>263.161</td>\n",
       "      <td>218.946</td>\n",
       "      <td>1.84</td>\n",
       "    </tr>\n",
       "    <tr>\n",
       "      <th>146</th>\n",
       "      <td>158</td>\n",
       "      <td>3</td>\n",
       "      <td>March</td>\n",
       "      <td>2021</td>\n",
       "      <td>31219</td>\n",
       "      <td>6.0</td>\n",
       "      <td>100</td>\n",
       "      <td>264.793</td>\n",
       "      <td>229.886</td>\n",
       "      <td>1.35</td>\n",
       "    </tr>\n",
       "    <tr>\n",
       "      <th>147</th>\n",
       "      <td>159</td>\n",
       "      <td>4</td>\n",
       "      <td>April</td>\n",
       "      <td>2021</td>\n",
       "      <td>32270</td>\n",
       "      <td>6.1</td>\n",
       "      <td>100</td>\n",
       "      <td>266.832</td>\n",
       "      <td>229.658</td>\n",
       "      <td>1.03</td>\n",
       "    </tr>\n",
       "  </tbody>\n",
       "</table>\n",
       "<p>148 rows × 10 columns</p>\n",
       "</div>"
      ],
      "text/plain": [
       "     index  MonthNumeric MonthFactor  Year  RogueSales  Unemployment  \\\n",
       "0       12             1     January  2009        5802           7.8   \n",
       "1       13             2    February  2009        5515           8.3   \n",
       "2       14             3       March  2009        6982           8.7   \n",
       "3       15             4       April  2009        4758           9.0   \n",
       "4       16             5         May  2009        8287           9.4   \n",
       "..     ...           ...         ...   ...         ...           ...   \n",
       "143    155            12   Decemeber  2020       23338           6.7   \n",
       "144    156             1     January  2021       27750           6.3   \n",
       "145    157             2    February  2021       27750           6.2   \n",
       "146    158             3       March  2021       31219           6.0   \n",
       "147    159             4       April  2021       32270           6.1   \n",
       "\n",
       "     RogueQueries   CPIAll  CPIEnergy  InventoryToSalesRatio  \n",
       "0              15  211.933    178.661                   4.64  \n",
       "1              13  212.705    183.721                   4.57  \n",
       "2              14  212.495    178.415                   4.09  \n",
       "3              14  212.709    177.552                   4.01  \n",
       "4              11  213.022    179.830                   3.58  \n",
       "..            ...      ...        ...                    ...  \n",
       "143            91  261.560    203.716                   1.88  \n",
       "144            90  262.231    210.822                   1.76  \n",
       "145            95  263.161    218.946                   1.84  \n",
       "146           100  264.793    229.886                   1.35  \n",
       "147           100  266.832    229.658                   1.03  \n",
       "\n",
       "[148 rows x 10 columns]"
      ]
     },
     "execution_count": 23,
     "metadata": {},
     "output_type": "execute_result"
    }
   ],
   "source": [
    "modified_rogue = rogue_data[rogue_data['Year'] > 2008].reset_index()\n",
    "modified_rogue = modified_rogue.iloc[0:148,:]\n",
    "modified_rogue['InventoryToSalesRatio'] = inv_sales_ratio['InventoryToSales']\n",
    "modified_rogue"
   ]
  },
  {
   "cell_type": "code",
   "execution_count": 24,
   "id": "5a052709",
   "metadata": {},
   "outputs": [],
   "source": [
    "mod_rogue_train = modified_rogue[modified_rogue['Year'] <= 2015][['MonthFactor', 'InventoryToSalesRatio','Unemployment', 'CPIEnergy', 'CPIAll','RogueSales']]\n",
    "train_mod, val_mod = train_test_split(mod_rogue_train, test_size = 0.15, random_state = 42)"
   ]
  },
  {
   "cell_type": "code",
   "execution_count": 25,
   "id": "7d810ef9",
   "metadata": {},
   "outputs": [],
   "source": [
    "mod_rogue_test_A = modified_rogue[(modified_rogue['Year'] > 2015) & (modified_rogue['Year'] <= 2019)][['MonthFactor','InventoryToSalesRatio','Unemployment', 'RogueQueries', 'CPIEnergy', 'CPIAll','RogueSales']]\n",
    "mod_rogue_test_B = modified_rogue[modified_rogue['Year'] > 2019][['MonthFactor','InventoryToSalesRatio','Unemployment', 'RogueQueries', 'CPIEnergy', 'CPIAll','RogueSales']]\n"
   ]
  },
  {
   "cell_type": "code",
   "execution_count": 26,
   "id": "cc6ad141",
   "metadata": {},
   "outputs": [
    {
     "data": {
      "text/html": [
       "<div>\n",
       "<style scoped>\n",
       "    .dataframe tbody tr th:only-of-type {\n",
       "        vertical-align: middle;\n",
       "    }\n",
       "\n",
       "    .dataframe tbody tr th {\n",
       "        vertical-align: top;\n",
       "    }\n",
       "\n",
       "    .dataframe thead th {\n",
       "        text-align: right;\n",
       "    }\n",
       "</style>\n",
       "<table border=\"1\" class=\"dataframe\">\n",
       "  <thead>\n",
       "    <tr style=\"text-align: right;\">\n",
       "      <th></th>\n",
       "      <th>MonthFactor</th>\n",
       "      <th>InventoryToSalesRatio</th>\n",
       "      <th>Unemployment</th>\n",
       "      <th>CPIEnergy</th>\n",
       "      <th>CPIAll</th>\n",
       "      <th>RogueSales</th>\n",
       "    </tr>\n",
       "  </thead>\n",
       "  <tbody>\n",
       "    <tr>\n",
       "      <th>81</th>\n",
       "      <td>October</td>\n",
       "      <td>2.50</td>\n",
       "      <td>5.0</td>\n",
       "      <td>195.616</td>\n",
       "      <td>237.733</td>\n",
       "      <td>24939</td>\n",
       "    </tr>\n",
       "    <tr>\n",
       "      <th>55</th>\n",
       "      <td>August</td>\n",
       "      <td>2.59</td>\n",
       "      <td>7.2</td>\n",
       "      <td>244.833</td>\n",
       "      <td>233.456</td>\n",
       "      <td>17273</td>\n",
       "    </tr>\n",
       "    <tr>\n",
       "      <th>54</th>\n",
       "      <td>July</td>\n",
       "      <td>2.46</td>\n",
       "      <td>7.3</td>\n",
       "      <td>242.986</td>\n",
       "      <td>232.900</td>\n",
       "      <td>16992</td>\n",
       "    </tr>\n",
       "    <tr>\n",
       "      <th>33</th>\n",
       "      <td>October</td>\n",
       "      <td>2.04</td>\n",
       "      <td>8.8</td>\n",
       "      <td>246.655</td>\n",
       "      <td>226.750</td>\n",
       "      <td>10034</td>\n",
       "    </tr>\n",
       "    <tr>\n",
       "      <th>76</th>\n",
       "      <td>May</td>\n",
       "      <td>2.60</td>\n",
       "      <td>5.6</td>\n",
       "      <td>208.973</td>\n",
       "      <td>237.001</td>\n",
       "      <td>25901</td>\n",
       "    </tr>\n",
       "    <tr>\n",
       "      <th>...</th>\n",
       "      <td>...</td>\n",
       "      <td>...</td>\n",
       "      <td>...</td>\n",
       "      <td>...</td>\n",
       "      <td>...</td>\n",
       "      <td>...</td>\n",
       "    </tr>\n",
       "    <tr>\n",
       "      <th>20</th>\n",
       "      <td>Septeber</td>\n",
       "      <td>2.66</td>\n",
       "      <td>9.5</td>\n",
       "      <td>209.832</td>\n",
       "      <td>218.275</td>\n",
       "      <td>8319</td>\n",
       "    </tr>\n",
       "    <tr>\n",
       "      <th>60</th>\n",
       "      <td>January</td>\n",
       "      <td>2.92</td>\n",
       "      <td>6.6</td>\n",
       "      <td>250.340</td>\n",
       "      <td>235.288</td>\n",
       "      <td>13831</td>\n",
       "    </tr>\n",
       "    <tr>\n",
       "      <th>71</th>\n",
       "      <td>Decemeber</td>\n",
       "      <td>2.52</td>\n",
       "      <td>5.6</td>\n",
       "      <td>218.536</td>\n",
       "      <td>236.252</td>\n",
       "      <td>14879</td>\n",
       "    </tr>\n",
       "    <tr>\n",
       "      <th>14</th>\n",
       "      <td>March</td>\n",
       "      <td>2.37</td>\n",
       "      <td>9.9</td>\n",
       "      <td>209.326</td>\n",
       "      <td>217.353</td>\n",
       "      <td>8395</td>\n",
       "    </tr>\n",
       "    <tr>\n",
       "      <th>51</th>\n",
       "      <td>April</td>\n",
       "      <td>2.48</td>\n",
       "      <td>7.6</td>\n",
       "      <td>240.473</td>\n",
       "      <td>231.797</td>\n",
       "      <td>11904</td>\n",
       "    </tr>\n",
       "  </tbody>\n",
       "</table>\n",
       "<p>71 rows × 6 columns</p>\n",
       "</div>"
      ],
      "text/plain": [
       "   MonthFactor  InventoryToSalesRatio  Unemployment  CPIEnergy   CPIAll  \\\n",
       "81     October                   2.50           5.0    195.616  237.733   \n",
       "55      August                   2.59           7.2    244.833  233.456   \n",
       "54        July                   2.46           7.3    242.986  232.900   \n",
       "33     October                   2.04           8.8    246.655  226.750   \n",
       "76         May                   2.60           5.6    208.973  237.001   \n",
       "..         ...                    ...           ...        ...      ...   \n",
       "20    Septeber                   2.66           9.5    209.832  218.275   \n",
       "60     January                   2.92           6.6    250.340  235.288   \n",
       "71   Decemeber                   2.52           5.6    218.536  236.252   \n",
       "14       March                   2.37           9.9    209.326  217.353   \n",
       "51       April                   2.48           7.6    240.473  231.797   \n",
       "\n",
       "    RogueSales  \n",
       "81       24939  \n",
       "55       17273  \n",
       "54       16992  \n",
       "33       10034  \n",
       "76       25901  \n",
       "..         ...  \n",
       "20        8319  \n",
       "60       13831  \n",
       "71       14879  \n",
       "14        8395  \n",
       "51       11904  \n",
       "\n",
       "[71 rows x 6 columns]"
      ]
     },
     "execution_count": 26,
     "metadata": {},
     "output_type": "execute_result"
    }
   ],
   "source": [
    "train_mod"
   ]
  },
  {
   "cell_type": "code",
   "execution_count": 27,
   "id": "27641c6f",
   "metadata": {},
   "outputs": [
    {
     "name": "stdout",
     "output_type": "stream",
     "text": [
      "                            OLS Regression Results                            \n",
      "==============================================================================\n",
      "Dep. Variable:             RogueSales   R-squared:                       0.858\n",
      "Model:                            OLS   Adj. R-squared:                  0.820\n",
      "Method:                 Least Squares   F-statistic:                     22.24\n",
      "Date:                Tue, 21 Sep 2021   Prob (F-statistic):           4.73e-18\n",
      "Time:                        23:04:49   Log-Likelihood:                -652.00\n",
      "No. Observations:                  71   AIC:                             1336.\n",
      "Df Residuals:                      55   BIC:                             1372.\n",
      "Df Model:                          15                                         \n",
      "Covariance Type:            nonrobust                                         \n",
      "============================================================================================\n",
      "                               coef    std err          t      P>|t|      [0.025      0.975]\n",
      "--------------------------------------------------------------------------------------------\n",
      "Intercept                -2.875e+04    7.4e+04     -0.389      0.699   -1.77e+05    1.19e+05\n",
      "MonthFactor[T.August]     3391.3241   1446.968      2.344      0.023     491.536    6291.112\n",
      "MonthFactor[T.Decemeber]   341.6426   1588.916      0.215      0.831   -2842.617    3525.902\n",
      "MonthFactor[T.February]   4324.9912   1510.259      2.864      0.006    1298.365    7351.617\n",
      "MonthFactor[T.January]   -1159.3239   1575.591     -0.736      0.465   -4316.879    1998.231\n",
      "MonthFactor[T.July]       2085.7033   1497.391      1.393      0.169    -915.136    5086.543\n",
      "MonthFactor[T.June]       1077.5238   1497.780      0.719      0.475   -1924.094    4079.142\n",
      "MonthFactor[T.March]      4579.9149   1433.829      3.194      0.002    1706.458    7453.372\n",
      "MonthFactor[T.May]        2895.4047   1574.249      1.839      0.071    -259.460    6050.269\n",
      "MonthFactor[T.November]    354.1680   1872.215      0.189      0.851   -3397.835    4106.171\n",
      "MonthFactor[T.October]    -195.0190   1441.566     -0.135      0.893   -3083.981    2693.943\n",
      "MonthFactor[T.Septeber]    644.6046   1438.578      0.448      0.656   -2238.371    3527.580\n",
      "InventoryToSalesRatio    -3584.0092   1083.166     -3.309      0.002   -5754.723   -1413.296\n",
      "Unemployment             -1917.6675   1459.522     -1.314      0.194   -4842.614    1007.279\n",
      "CPIEnergy                  -92.9514     41.296     -2.251      0.028    -175.710     -10.193\n",
      "CPIAll                     376.0847    304.505      1.235      0.222    -234.156     986.326\n",
      "==============================================================================\n",
      "Omnibus:                       29.547   Durbin-Watson:                   2.297\n",
      "Prob(Omnibus):                  0.000   Jarque-Bera (JB):              132.661\n",
      "Skew:                           1.017   Prob(JB):                     1.56e-29\n",
      "Kurtosis:                       9.380   Cond. No.                     7.52e+04\n",
      "==============================================================================\n",
      "\n",
      "Notes:\n",
      "[1] Standard Errors assume that the covariance matrix of the errors is correctly specified.\n",
      "[2] The condition number is large, 7.52e+04. This might indicate that there are\n",
      "strong multicollinearity or other numerical problems.\n"
     ]
    }
   ],
   "source": [
    "ols_5 = smf.ols(formula = 'RogueSales ~ MonthFactor + InventoryToSalesRatio + Unemployment + CPIEnergy + CPIAll', data = train_mod)\n",
    "model_5 = ols_5.fit()\n",
    "print(model_5.summary())"
   ]
  },
  {
   "cell_type": "code",
   "execution_count": 28,
   "id": "65f184d6",
   "metadata": {},
   "outputs": [
    {
     "data": {
      "text/plain": [
       "0.7246876934105222"
      ]
     },
     "execution_count": 28,
     "metadata": {},
     "output_type": "execute_result"
    }
   ],
   "source": [
    "OSR2(model_5, train_mod, val_mod, 'RogueSales')"
   ]
  },
  {
   "cell_type": "code",
   "execution_count": 29,
   "id": "bcd7e3f7",
   "metadata": {},
   "outputs": [
    {
     "data": {
      "text/plain": [
       "0.8790521605120256"
      ]
     },
     "execution_count": 29,
     "metadata": {},
     "output_type": "execute_result"
    }
   ],
   "source": [
    "OSR2(model_5, train_mod, mod_rogue_test_A, 'RogueSales')"
   ]
  },
  {
   "cell_type": "code",
   "execution_count": 30,
   "id": "ada87eaf",
   "metadata": {},
   "outputs": [
    {
     "data": {
      "text/plain": [
       "-0.006927597365599558"
      ]
     },
     "execution_count": 30,
     "metadata": {},
     "output_type": "execute_result"
    }
   ],
   "source": [
    "OSR2(model_5, train_mod, mod_rogue_test_B, 'RogueSales')"
   ]
  }
 ],
 "metadata": {
  "kernelspec": {
   "display_name": "Python 3 (ipykernel)",
   "language": "python",
   "name": "python3"
  },
  "language_info": {
   "codemirror_mode": {
    "name": "ipython",
    "version": 3
   },
   "file_extension": ".py",
   "mimetype": "text/x-python",
   "name": "python",
   "nbconvert_exporter": "python",
   "pygments_lexer": "ipython3",
   "version": "3.9.9"
  }
 },
 "nbformat": 4,
 "nbformat_minor": 5
}
