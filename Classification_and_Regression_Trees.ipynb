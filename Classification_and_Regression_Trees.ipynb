{
 "cells": [
  {
   "cell_type": "code",
   "execution_count": 1,
   "id": "80013cec",
   "metadata": {},
   "outputs": [],
   "source": [
    "import pandas as pd\n",
    "import numpy as np\n",
    "import matplotlib.pyplot as plt\n",
    "import seaborn as sns\n",
    "import sklearn\n",
    "import sklearn.datasets\n",
    "import sklearn.linear_model as lm\n",
    "from sklearn.base import BaseEstimator\n",
    "from sklearn.metrics import r2_score\n",
    "from sklearn.metrics import accuracy_score\n",
    "from sklearn.model_selection import train_test_split\n",
    "from sklearn.metrics import mean_absolute_error as mae\n",
    "import statsmodels.api as sm\n",
    "from statsmodels.stats.outliers_influence import variance_inflation_factor\n",
    "import statsmodels.formula.api as smf\n",
    "from sklearn.tree import DecisionTreeRegressor\n",
    "from sklearn.tree import DecisionTreeClassifier\n",
    "from sklearn.model_selection import GridSearchCV\n",
    "import statsmodels.formula.api as smf\n",
    "from sklearn.metrics import confusion_matrix\n",
    "from sklearn.metrics import roc_curve, auc\n",
    "from sklearn.tree import plot_tree"
   ]
  },
  {
   "cell_type": "markdown",
   "id": "5efada93",
   "metadata": {},
   "source": [
    "## Problem 2 Predicting Yelp Ratings"
   ]
  },
  {
   "cell_type": "code",
   "execution_count": 2,
   "id": "2c977611",
   "metadata": {},
   "outputs": [
    {
     "data": {
      "text/html": [
       "<div>\n",
       "<style scoped>\n",
       "    .dataframe tbody tr th:only-of-type {\n",
       "        vertical-align: middle;\n",
       "    }\n",
       "\n",
       "    .dataframe tbody tr th {\n",
       "        vertical-align: top;\n",
       "    }\n",
       "\n",
       "    .dataframe thead th {\n",
       "        text-align: right;\n",
       "    }\n",
       "</style>\n",
       "<table border=\"1\" class=\"dataframe\">\n",
       "  <thead>\n",
       "    <tr style=\"text-align: right;\">\n",
       "      <th></th>\n",
       "      <th>stars</th>\n",
       "      <th>review_count</th>\n",
       "      <th>GoodForKids</th>\n",
       "      <th>Alcohol</th>\n",
       "      <th>BusinessAcceptsCreditCards</th>\n",
       "      <th>WiFi</th>\n",
       "      <th>BikeParking</th>\n",
       "      <th>ByAppointmentOnly</th>\n",
       "      <th>WheelechairAccessible</th>\n",
       "      <th>OutdoorSeating</th>\n",
       "      <th>RestaurantsReservations</th>\n",
       "      <th>DogsAllowed</th>\n",
       "      <th>Caters</th>\n",
       "    </tr>\n",
       "  </thead>\n",
       "  <tbody>\n",
       "    <tr>\n",
       "      <th>0</th>\n",
       "      <td>3.0</td>\n",
       "      <td>53</td>\n",
       "      <td>TRUE</td>\n",
       "      <td>(Missing)</td>\n",
       "      <td>TRUE</td>\n",
       "      <td>'free'</td>\n",
       "      <td>TRUE</td>\n",
       "      <td>(Missing)</td>\n",
       "      <td>(Missing)</td>\n",
       "      <td>FALSE</td>\n",
       "      <td>TRUE</td>\n",
       "      <td>(Missing)</td>\n",
       "      <td>(Missing)</td>\n",
       "    </tr>\n",
       "    <tr>\n",
       "      <th>1</th>\n",
       "      <td>5.0</td>\n",
       "      <td>6</td>\n",
       "      <td>(Missing)</td>\n",
       "      <td>(Missing)</td>\n",
       "      <td>TRUE</td>\n",
       "      <td>(Missing)</td>\n",
       "      <td>(Missing)</td>\n",
       "      <td>FALSE</td>\n",
       "      <td>(Missing)</td>\n",
       "      <td>(Missing)</td>\n",
       "      <td>(Missing)</td>\n",
       "      <td>(Missing)</td>\n",
       "      <td>(Missing)</td>\n",
       "    </tr>\n",
       "    <tr>\n",
       "      <th>2</th>\n",
       "      <td>2.5</td>\n",
       "      <td>7</td>\n",
       "      <td>(Missing)</td>\n",
       "      <td>(Missing)</td>\n",
       "      <td>TRUE</td>\n",
       "      <td>(Missing)</td>\n",
       "      <td>FALSE</td>\n",
       "      <td>(Missing)</td>\n",
       "      <td>(Missing)</td>\n",
       "      <td>(Missing)</td>\n",
       "      <td>(Missing)</td>\n",
       "      <td>(Missing)</td>\n",
       "      <td>(Missing)</td>\n",
       "    </tr>\n",
       "    <tr>\n",
       "      <th>3</th>\n",
       "      <td>3.5</td>\n",
       "      <td>73</td>\n",
       "      <td>TRUE</td>\n",
       "      <td>'none'</td>\n",
       "      <td>TRUE</td>\n",
       "      <td>'no'</td>\n",
       "      <td>TRUE</td>\n",
       "      <td>(Missing)</td>\n",
       "      <td>TRUE</td>\n",
       "      <td>FALSE</td>\n",
       "      <td>FALSE</td>\n",
       "      <td>(Missing)</td>\n",
       "      <td>TRUE</td>\n",
       "    </tr>\n",
       "    <tr>\n",
       "      <th>4</th>\n",
       "      <td>4.0</td>\n",
       "      <td>203</td>\n",
       "      <td>TRUE</td>\n",
       "      <td>'beer_and_wine'</td>\n",
       "      <td>TRUE</td>\n",
       "      <td>'free'</td>\n",
       "      <td>TRUE</td>\n",
       "      <td>(Missing)</td>\n",
       "      <td>TRUE</td>\n",
       "      <td>TRUE</td>\n",
       "      <td>FALSE</td>\n",
       "      <td>(Missing)</td>\n",
       "      <td>TRUE</td>\n",
       "    </tr>\n",
       "  </tbody>\n",
       "</table>\n",
       "</div>"
      ],
      "text/plain": [
       "   stars  review_count GoodForKids          Alcohol  \\\n",
       "0    3.0            53        TRUE        (Missing)   \n",
       "1    5.0             6   (Missing)        (Missing)   \n",
       "2    2.5             7   (Missing)        (Missing)   \n",
       "3    3.5            73        TRUE           'none'   \n",
       "4    4.0           203        TRUE  'beer_and_wine'   \n",
       "\n",
       "  BusinessAcceptsCreditCards       WiFi BikeParking ByAppointmentOnly  \\\n",
       "0                       TRUE     'free'        TRUE         (Missing)   \n",
       "1                       TRUE  (Missing)   (Missing)             FALSE   \n",
       "2                       TRUE  (Missing)       FALSE         (Missing)   \n",
       "3                       TRUE       'no'        TRUE         (Missing)   \n",
       "4                       TRUE     'free'        TRUE         (Missing)   \n",
       "\n",
       "  WheelechairAccessible OutdoorSeating RestaurantsReservations DogsAllowed  \\\n",
       "0             (Missing)          FALSE                    TRUE   (Missing)   \n",
       "1             (Missing)      (Missing)               (Missing)   (Missing)   \n",
       "2             (Missing)      (Missing)               (Missing)   (Missing)   \n",
       "3                  TRUE          FALSE                   FALSE   (Missing)   \n",
       "4                  TRUE           TRUE                   FALSE   (Missing)   \n",
       "\n",
       "      Caters  \n",
       "0  (Missing)  \n",
       "1  (Missing)  \n",
       "2  (Missing)  \n",
       "3       TRUE  \n",
       "4       TRUE  "
      ]
     },
     "metadata": {},
     "output_type": "display_data"
    },
    {
     "data": {
      "text/html": [
       "<div>\n",
       "<style scoped>\n",
       "    .dataframe tbody tr th:only-of-type {\n",
       "        vertical-align: middle;\n",
       "    }\n",
       "\n",
       "    .dataframe tbody tr th {\n",
       "        vertical-align: top;\n",
       "    }\n",
       "\n",
       "    .dataframe thead th {\n",
       "        text-align: right;\n",
       "    }\n",
       "</style>\n",
       "<table border=\"1\" class=\"dataframe\">\n",
       "  <thead>\n",
       "    <tr style=\"text-align: right;\">\n",
       "      <th></th>\n",
       "      <th>stars</th>\n",
       "      <th>review_count</th>\n",
       "      <th>GoodForKids</th>\n",
       "      <th>Alcohol</th>\n",
       "      <th>BusinessAcceptsCreditCards</th>\n",
       "      <th>WiFi</th>\n",
       "      <th>BikeParking</th>\n",
       "      <th>ByAppointmentOnly</th>\n",
       "      <th>WheelechairAccessible</th>\n",
       "      <th>OutdoorSeating</th>\n",
       "      <th>RestaurantsReservations</th>\n",
       "      <th>DogsAllowed</th>\n",
       "      <th>Caters</th>\n",
       "    </tr>\n",
       "  </thead>\n",
       "  <tbody>\n",
       "    <tr>\n",
       "      <th>0</th>\n",
       "      <td>2.5</td>\n",
       "      <td>15</td>\n",
       "      <td>TRUE</td>\n",
       "      <td>'none'</td>\n",
       "      <td>TRUE</td>\n",
       "      <td>'no'</td>\n",
       "      <td>TRUE</td>\n",
       "      <td>(Missing)</td>\n",
       "      <td>(Missing)</td>\n",
       "      <td>FALSE</td>\n",
       "      <td>FALSE</td>\n",
       "      <td>(Missing)</td>\n",
       "      <td>FALSE</td>\n",
       "    </tr>\n",
       "    <tr>\n",
       "      <th>1</th>\n",
       "      <td>3.0</td>\n",
       "      <td>54</td>\n",
       "      <td>TRUE</td>\n",
       "      <td>'none'</td>\n",
       "      <td>TRUE</td>\n",
       "      <td>'no'</td>\n",
       "      <td>FALSE</td>\n",
       "      <td>(Missing)</td>\n",
       "      <td>(Missing)</td>\n",
       "      <td>FALSE</td>\n",
       "      <td>FALSE</td>\n",
       "      <td>(Missing)</td>\n",
       "      <td>TRUE</td>\n",
       "    </tr>\n",
       "    <tr>\n",
       "      <th>2</th>\n",
       "      <td>3.5</td>\n",
       "      <td>8</td>\n",
       "      <td>(Missing)</td>\n",
       "      <td>'none'</td>\n",
       "      <td>TRUE</td>\n",
       "      <td>(Missing)</td>\n",
       "      <td>TRUE</td>\n",
       "      <td>(Missing)</td>\n",
       "      <td>TRUE</td>\n",
       "      <td>(Missing)</td>\n",
       "      <td>(Missing)</td>\n",
       "      <td>(Missing)</td>\n",
       "      <td>TRUE</td>\n",
       "    </tr>\n",
       "    <tr>\n",
       "      <th>3</th>\n",
       "      <td>3.0</td>\n",
       "      <td>262</td>\n",
       "      <td>TRUE</td>\n",
       "      <td>'full_bar'</td>\n",
       "      <td>TRUE</td>\n",
       "      <td>'free'</td>\n",
       "      <td>TRUE</td>\n",
       "      <td>(Missing)</td>\n",
       "      <td>(Missing)</td>\n",
       "      <td>TRUE</td>\n",
       "      <td>TRUE</td>\n",
       "      <td>(Missing)</td>\n",
       "      <td>FALSE</td>\n",
       "    </tr>\n",
       "    <tr>\n",
       "      <th>4</th>\n",
       "      <td>3.0</td>\n",
       "      <td>5</td>\n",
       "      <td>(Missing)</td>\n",
       "      <td>(Missing)</td>\n",
       "      <td>TRUE</td>\n",
       "      <td>(Missing)</td>\n",
       "      <td>TRUE</td>\n",
       "      <td>(Missing)</td>\n",
       "      <td>TRUE</td>\n",
       "      <td>(Missing)</td>\n",
       "      <td>(Missing)</td>\n",
       "      <td>(Missing)</td>\n",
       "      <td>(Missing)</td>\n",
       "    </tr>\n",
       "  </tbody>\n",
       "</table>\n",
       "</div>"
      ],
      "text/plain": [
       "   stars  review_count GoodForKids     Alcohol BusinessAcceptsCreditCards  \\\n",
       "0    2.5            15        TRUE      'none'                       TRUE   \n",
       "1    3.0            54        TRUE      'none'                       TRUE   \n",
       "2    3.5             8   (Missing)      'none'                       TRUE   \n",
       "3    3.0           262        TRUE  'full_bar'                       TRUE   \n",
       "4    3.0             5   (Missing)   (Missing)                       TRUE   \n",
       "\n",
       "        WiFi BikeParking ByAppointmentOnly WheelechairAccessible  \\\n",
       "0       'no'        TRUE         (Missing)             (Missing)   \n",
       "1       'no'       FALSE         (Missing)             (Missing)   \n",
       "2  (Missing)        TRUE         (Missing)                  TRUE   \n",
       "3     'free'        TRUE         (Missing)             (Missing)   \n",
       "4  (Missing)        TRUE         (Missing)                  TRUE   \n",
       "\n",
       "  OutdoorSeating RestaurantsReservations DogsAllowed     Caters  \n",
       "0          FALSE                   FALSE   (Missing)      FALSE  \n",
       "1          FALSE                   FALSE   (Missing)       TRUE  \n",
       "2      (Missing)               (Missing)   (Missing)       TRUE  \n",
       "3           TRUE                    TRUE   (Missing)      FALSE  \n",
       "4      (Missing)               (Missing)   (Missing)  (Missing)  "
      ]
     },
     "metadata": {},
     "output_type": "display_data"
    }
   ],
   "source": [
    "yelp_train = pd.read_csv('yelp142_train.csv')\n",
    "yelp_test = pd.read_csv('yelp142_test.csv')\n",
    "display(yelp_train.head(), yelp_test.head())"
   ]
  },
  {
   "cell_type": "markdown",
   "id": "19a6772b",
   "metadata": {},
   "source": [
    "## b.i)"
   ]
  },
  {
   "cell_type": "code",
   "execution_count": 3,
   "id": "e63c81fb",
   "metadata": {
    "scrolled": true
   },
   "outputs": [
    {
     "data": {
      "text/html": [
       "<table class=\"simpletable\">\n",
       "<caption>OLS Regression Results</caption>\n",
       "<tr>\n",
       "  <th>Dep. Variable:</th>          <td>stars</td>      <th>  R-squared:         </th> <td>   0.175</td> \n",
       "</tr>\n",
       "<tr>\n",
       "  <th>Model:</th>                   <td>OLS</td>       <th>  Adj. R-squared:    </th> <td>   0.171</td> \n",
       "</tr>\n",
       "<tr>\n",
       "  <th>Method:</th>             <td>Least Squares</td>  <th>  F-statistic:       </th> <td>   52.86</td> \n",
       "</tr>\n",
       "<tr>\n",
       "  <th>Date:</th>             <td>Mon, 18 Oct 2021</td> <th>  Prob (F-statistic):</th> <td>1.16e-237</td>\n",
       "</tr>\n",
       "<tr>\n",
       "  <th>Time:</th>                 <td>22:42:48</td>     <th>  Log-Likelihood:    </th> <td> -7281.7</td> \n",
       "</tr>\n",
       "<tr>\n",
       "  <th>No. Observations:</th>      <td>  6272</td>      <th>  AIC:               </th> <td>1.462e+04</td>\n",
       "</tr>\n",
       "<tr>\n",
       "  <th>Df Residuals:</th>          <td>  6246</td>      <th>  BIC:               </th> <td>1.479e+04</td>\n",
       "</tr>\n",
       "<tr>\n",
       "  <th>Df Model:</th>              <td>    25</td>      <th>                     </th>     <td> </td>    \n",
       "</tr>\n",
       "<tr>\n",
       "  <th>Covariance Type:</th>      <td>nonrobust</td>    <th>                     </th>     <td> </td>    \n",
       "</tr>\n",
       "</table>\n",
       "<table class=\"simpletable\">\n",
       "<tr>\n",
       "                                      <td></td>                                        <th>coef</th>     <th>std err</th>      <th>t</th>      <th>P>|t|</th>  <th>[0.025</th>    <th>0.975]</th>  \n",
       "</tr>\n",
       "<tr>\n",
       "  <th>Intercept</th>                                                                <td>    3.3376</td> <td>    0.039</td> <td>   85.220</td> <td> 0.000</td> <td>    3.261</td> <td>    3.414</td>\n",
       "</tr>\n",
       "<tr>\n",
       "  <th>C(GoodForKids, Treatment(reference='(Missing)'))[T.FALSE]</th>                <td>   -0.0021</td> <td>    0.046</td> <td>   -0.047</td> <td> 0.963</td> <td>   -0.092</td> <td>    0.088</td>\n",
       "</tr>\n",
       "<tr>\n",
       "  <th>C(GoodForKids, Treatment(reference='(Missing)'))[T.TRUE]</th>                 <td>   -0.0992</td> <td>    0.036</td> <td>   -2.770</td> <td> 0.006</td> <td>   -0.169</td> <td>   -0.029</td>\n",
       "</tr>\n",
       "<tr>\n",
       "  <th>C(Alcohol, Treatment(reference='(Missing)'))[T.'beer_and_wine']</th>          <td>    0.2437</td> <td>    0.047</td> <td>    5.141</td> <td> 0.000</td> <td>    0.151</td> <td>    0.337</td>\n",
       "</tr>\n",
       "<tr>\n",
       "  <th>C(Alcohol, Treatment(reference='(Missing)'))[T.'full_bar']</th>               <td>    0.1305</td> <td>    0.044</td> <td>    2.997</td> <td> 0.003</td> <td>    0.045</td> <td>    0.216</td>\n",
       "</tr>\n",
       "<tr>\n",
       "  <th>C(Alcohol, Treatment(reference='(Missing)'))[T.'none']</th>                   <td>    0.1226</td> <td>    0.039</td> <td>    3.143</td> <td> 0.002</td> <td>    0.046</td> <td>    0.199</td>\n",
       "</tr>\n",
       "<tr>\n",
       "  <th>C(BusinessAcceptsCreditCards, Treatment(reference='(Missing)'))[T.FALSE]</th> <td>    0.5590</td> <td>    0.091</td> <td>    6.124</td> <td> 0.000</td> <td>    0.380</td> <td>    0.738</td>\n",
       "</tr>\n",
       "<tr>\n",
       "  <th>C(BusinessAcceptsCreditCards, Treatment(reference='(Missing)'))[T.TRUE]</th>  <td>    0.1337</td> <td>    0.046</td> <td>    2.899</td> <td> 0.004</td> <td>    0.043</td> <td>    0.224</td>\n",
       "</tr>\n",
       "<tr>\n",
       "  <th>C(WiFi, Treatment(reference='(Missing)'))[T.'free']</th>                      <td>    0.1094</td> <td>    0.035</td> <td>    3.165</td> <td> 0.002</td> <td>    0.042</td> <td>    0.177</td>\n",
       "</tr>\n",
       "<tr>\n",
       "  <th>C(WiFi, Treatment(reference='(Missing)'))[T.'no']</th>                        <td>    0.1102</td> <td>    0.033</td> <td>    3.317</td> <td> 0.001</td> <td>    0.045</td> <td>    0.175</td>\n",
       "</tr>\n",
       "<tr>\n",
       "  <th>C(WiFi, Treatment(reference='(Missing)'))[T.'paid']</th>                      <td>   -0.1727</td> <td>    0.101</td> <td>   -1.703</td> <td> 0.089</td> <td>   -0.371</td> <td>    0.026</td>\n",
       "</tr>\n",
       "<tr>\n",
       "  <th>C(BikeParking, Treatment(reference='(Missing)'))[T.FALSE]</th>                <td>   -0.1634</td> <td>    0.032</td> <td>   -5.111</td> <td> 0.000</td> <td>   -0.226</td> <td>   -0.101</td>\n",
       "</tr>\n",
       "<tr>\n",
       "  <th>C(BikeParking, Treatment(reference='(Missing)'))[T.TRUE]</th>                 <td>   -0.1170</td> <td>    0.029</td> <td>   -4.069</td> <td> 0.000</td> <td>   -0.173</td> <td>   -0.061</td>\n",
       "</tr>\n",
       "<tr>\n",
       "  <th>C(ByAppointmentOnly, Treatment(reference='(Missing)'))[T.FALSE]</th>          <td>    0.1045</td> <td>    0.034</td> <td>    3.081</td> <td> 0.002</td> <td>    0.038</td> <td>    0.171</td>\n",
       "</tr>\n",
       "<tr>\n",
       "  <th>C(ByAppointmentOnly, Treatment(reference='(Missing)'))[T.TRUE]</th>           <td>    0.2720</td> <td>    0.102</td> <td>    2.656</td> <td> 0.008</td> <td>    0.071</td> <td>    0.473</td>\n",
       "</tr>\n",
       "<tr>\n",
       "  <th>C(WheelechairAccessible, Treatment(reference='(Missing)'))[T.FALSE]</th>      <td>    0.7328</td> <td>    0.091</td> <td>    8.034</td> <td> 0.000</td> <td>    0.554</td> <td>    0.912</td>\n",
       "</tr>\n",
       "<tr>\n",
       "  <th>C(WheelechairAccessible, Treatment(reference='(Missing)'))[T.TRUE]</th>       <td>    0.3771</td> <td>    0.028</td> <td>   13.488</td> <td> 0.000</td> <td>    0.322</td> <td>    0.432</td>\n",
       "</tr>\n",
       "<tr>\n",
       "  <th>C(OutdoorSeating, Treatment(reference='(Missing)'))[T.FALSE]</th>             <td>   -0.1502</td> <td>    0.040</td> <td>   -3.773</td> <td> 0.000</td> <td>   -0.228</td> <td>   -0.072</td>\n",
       "</tr>\n",
       "<tr>\n",
       "  <th>C(OutdoorSeating, Treatment(reference='(Missing)'))[T.TRUE]</th>              <td>   -0.0299</td> <td>    0.043</td> <td>   -0.701</td> <td> 0.483</td> <td>   -0.113</td> <td>    0.054</td>\n",
       "</tr>\n",
       "<tr>\n",
       "  <th>C(RestaurantsReservations, Treatment(reference='(Missing)'))[T.FALSE]</th>    <td>   -0.1914</td> <td>    0.041</td> <td>   -4.712</td> <td> 0.000</td> <td>   -0.271</td> <td>   -0.112</td>\n",
       "</tr>\n",
       "<tr>\n",
       "  <th>C(RestaurantsReservations, Treatment(reference='(Missing)'))[T.TRUE]</th>     <td>    0.0198</td> <td>    0.046</td> <td>    0.435</td> <td> 0.664</td> <td>   -0.070</td> <td>    0.109</td>\n",
       "</tr>\n",
       "<tr>\n",
       "  <th>C(DogsAllowed, Treatment(reference='(Missing)'))[T.FALSE]</th>                <td>    0.2623</td> <td>    0.030</td> <td>    8.888</td> <td> 0.000</td> <td>    0.204</td> <td>    0.320</td>\n",
       "</tr>\n",
       "<tr>\n",
       "  <th>C(DogsAllowed, Treatment(reference='(Missing)'))[T.TRUE]</th>                 <td>    0.1912</td> <td>    0.054</td> <td>    3.513</td> <td> 0.000</td> <td>    0.085</td> <td>    0.298</td>\n",
       "</tr>\n",
       "<tr>\n",
       "  <th>C(Caters, Treatment(reference='(Missing)'))[T.FALSE]</th>                     <td>   -0.1333</td> <td>    0.030</td> <td>   -4.436</td> <td> 0.000</td> <td>   -0.192</td> <td>   -0.074</td>\n",
       "</tr>\n",
       "<tr>\n",
       "  <th>C(Caters, Treatment(reference='(Missing)'))[T.TRUE]</th>                      <td>    0.1173</td> <td>    0.033</td> <td>    3.584</td> <td> 0.000</td> <td>    0.053</td> <td>    0.181</td>\n",
       "</tr>\n",
       "<tr>\n",
       "  <th>review_count</th>                                                             <td> 8.773e-05</td> <td> 2.62e-05</td> <td>    3.355</td> <td> 0.001</td> <td> 3.65e-05</td> <td>    0.000</td>\n",
       "</tr>\n",
       "</table>\n",
       "<table class=\"simpletable\">\n",
       "<tr>\n",
       "  <th>Omnibus:</th>       <td>136.028</td> <th>  Durbin-Watson:     </th> <td>   1.955</td>\n",
       "</tr>\n",
       "<tr>\n",
       "  <th>Prob(Omnibus):</th> <td> 0.000</td>  <th>  Jarque-Bera (JB):  </th> <td> 144.498</td>\n",
       "</tr>\n",
       "<tr>\n",
       "  <th>Skew:</th>          <td>-0.370</td>  <th>  Prob(JB):          </th> <td>4.19e-32</td>\n",
       "</tr>\n",
       "<tr>\n",
       "  <th>Kurtosis:</th>      <td> 3.078</td>  <th>  Cond. No.          </th> <td>5.01e+03</td>\n",
       "</tr>\n",
       "</table><br/><br/>Notes:<br/>[1] Standard Errors assume that the covariance matrix of the errors is correctly specified.<br/>[2] The condition number is large, 5.01e+03. This might indicate that there are<br/>strong multicollinearity or other numerical problems."
      ],
      "text/plain": [
       "<class 'statsmodels.iolib.summary.Summary'>\n",
       "\"\"\"\n",
       "                            OLS Regression Results                            \n",
       "==============================================================================\n",
       "Dep. Variable:                  stars   R-squared:                       0.175\n",
       "Model:                            OLS   Adj. R-squared:                  0.171\n",
       "Method:                 Least Squares   F-statistic:                     52.86\n",
       "Date:                Mon, 18 Oct 2021   Prob (F-statistic):          1.16e-237\n",
       "Time:                        22:42:48   Log-Likelihood:                -7281.7\n",
       "No. Observations:                6272   AIC:                         1.462e+04\n",
       "Df Residuals:                    6246   BIC:                         1.479e+04\n",
       "Df Model:                          25                                         \n",
       "Covariance Type:            nonrobust                                         \n",
       "============================================================================================================================================\n",
       "                                                                               coef    std err          t      P>|t|      [0.025      0.975]\n",
       "--------------------------------------------------------------------------------------------------------------------------------------------\n",
       "Intercept                                                                    3.3376      0.039     85.220      0.000       3.261       3.414\n",
       "C(GoodForKids, Treatment(reference='(Missing)'))[T.FALSE]                   -0.0021      0.046     -0.047      0.963      -0.092       0.088\n",
       "C(GoodForKids, Treatment(reference='(Missing)'))[T.TRUE]                    -0.0992      0.036     -2.770      0.006      -0.169      -0.029\n",
       "C(Alcohol, Treatment(reference='(Missing)'))[T.'beer_and_wine']              0.2437      0.047      5.141      0.000       0.151       0.337\n",
       "C(Alcohol, Treatment(reference='(Missing)'))[T.'full_bar']                   0.1305      0.044      2.997      0.003       0.045       0.216\n",
       "C(Alcohol, Treatment(reference='(Missing)'))[T.'none']                       0.1226      0.039      3.143      0.002       0.046       0.199\n",
       "C(BusinessAcceptsCreditCards, Treatment(reference='(Missing)'))[T.FALSE]     0.5590      0.091      6.124      0.000       0.380       0.738\n",
       "C(BusinessAcceptsCreditCards, Treatment(reference='(Missing)'))[T.TRUE]      0.1337      0.046      2.899      0.004       0.043       0.224\n",
       "C(WiFi, Treatment(reference='(Missing)'))[T.'free']                          0.1094      0.035      3.165      0.002       0.042       0.177\n",
       "C(WiFi, Treatment(reference='(Missing)'))[T.'no']                            0.1102      0.033      3.317      0.001       0.045       0.175\n",
       "C(WiFi, Treatment(reference='(Missing)'))[T.'paid']                         -0.1727      0.101     -1.703      0.089      -0.371       0.026\n",
       "C(BikeParking, Treatment(reference='(Missing)'))[T.FALSE]                   -0.1634      0.032     -5.111      0.000      -0.226      -0.101\n",
       "C(BikeParking, Treatment(reference='(Missing)'))[T.TRUE]                    -0.1170      0.029     -4.069      0.000      -0.173      -0.061\n",
       "C(ByAppointmentOnly, Treatment(reference='(Missing)'))[T.FALSE]              0.1045      0.034      3.081      0.002       0.038       0.171\n",
       "C(ByAppointmentOnly, Treatment(reference='(Missing)'))[T.TRUE]               0.2720      0.102      2.656      0.008       0.071       0.473\n",
       "C(WheelechairAccessible, Treatment(reference='(Missing)'))[T.FALSE]          0.7328      0.091      8.034      0.000       0.554       0.912\n",
       "C(WheelechairAccessible, Treatment(reference='(Missing)'))[T.TRUE]           0.3771      0.028     13.488      0.000       0.322       0.432\n",
       "C(OutdoorSeating, Treatment(reference='(Missing)'))[T.FALSE]                -0.1502      0.040     -3.773      0.000      -0.228      -0.072\n",
       "C(OutdoorSeating, Treatment(reference='(Missing)'))[T.TRUE]                 -0.0299      0.043     -0.701      0.483      -0.113       0.054\n",
       "C(RestaurantsReservations, Treatment(reference='(Missing)'))[T.FALSE]       -0.1914      0.041     -4.712      0.000      -0.271      -0.112\n",
       "C(RestaurantsReservations, Treatment(reference='(Missing)'))[T.TRUE]         0.0198      0.046      0.435      0.664      -0.070       0.109\n",
       "C(DogsAllowed, Treatment(reference='(Missing)'))[T.FALSE]                    0.2623      0.030      8.888      0.000       0.204       0.320\n",
       "C(DogsAllowed, Treatment(reference='(Missing)'))[T.TRUE]                     0.1912      0.054      3.513      0.000       0.085       0.298\n",
       "C(Caters, Treatment(reference='(Missing)'))[T.FALSE]                        -0.1333      0.030     -4.436      0.000      -0.192      -0.074\n",
       "C(Caters, Treatment(reference='(Missing)'))[T.TRUE]                          0.1173      0.033      3.584      0.000       0.053       0.181\n",
       "review_count                                                              8.773e-05   2.62e-05      3.355      0.001    3.65e-05       0.000\n",
       "==============================================================================\n",
       "Omnibus:                      136.028   Durbin-Watson:                   1.955\n",
       "Prob(Omnibus):                  0.000   Jarque-Bera (JB):              144.498\n",
       "Skew:                          -0.370   Prob(JB):                     4.19e-32\n",
       "Kurtosis:                       3.078   Cond. No.                     5.01e+03\n",
       "==============================================================================\n",
       "\n",
       "Notes:\n",
       "[1] Standard Errors assume that the covariance matrix of the errors is correctly specified.\n",
       "[2] The condition number is large, 5.01e+03. This might indicate that there are\n",
       "strong multicollinearity or other numerical problems.\n",
       "\"\"\""
      ]
     },
     "execution_count": 3,
     "metadata": {},
     "output_type": "execute_result"
    }
   ],
   "source": [
    "model_b1 = smf.ols(formula=\"stars ~ review_count + C(GoodForKids,Treatment(reference='(Missing)')) + \\\n",
    "                                C(Alcohol, Treatment(reference='(Missing)')) + \\\n",
    "                                C(BusinessAcceptsCreditCards,Treatment(reference='(Missing)')) + \\\n",
    "                                C(WiFi, Treatment(reference='(Missing)')) + \\\n",
    "                                C(BikeParking,Treatment(reference='(Missing)')) + \\\n",
    "                                C(ByAppointmentOnly,Treatment(reference='(Missing)')) + \\\n",
    "                                C(WheelechairAccessible, Treatment(reference='(Missing)')) + \\\n",
    "                                C(OutdoorSeating,Treatment(reference='(Missing)')) + \\\n",
    "                                C(RestaurantsReservations, Treatment(reference='(Missing)')) + \\\n",
    "                                C(DogsAllowed,Treatment(reference='(Missing)')) + \\\n",
    "                                C(Caters, Treatment(reference='(Missing)'))\", data = yelp_train).fit()\n",
    "model_b1.summary()"
   ]
  },
  {
   "cell_type": "markdown",
   "id": "0f44ad65",
   "metadata": {},
   "source": [
    "## b.ii)"
   ]
  },
  {
   "cell_type": "code",
   "execution_count": 4,
   "id": "abb2abb5",
   "metadata": {},
   "outputs": [],
   "source": [
    "x_train = pd.get_dummies(yelp_train.iloc[:,1:13])\n",
    "x_test = pd.get_dummies(yelp_test.iloc[:,1:13])\n",
    "y_train = yelp_train['stars']\n",
    "y_test = yelp_test['stars']"
   ]
  },
  {
   "cell_type": "code",
   "execution_count": 7,
   "id": "653fb483",
   "metadata": {},
   "outputs": [
    {
     "data": {
      "text/plain": [
       "dict_keys(['explained_variance', 'r2', 'max_error', 'neg_median_absolute_error', 'neg_mean_absolute_error', 'neg_mean_absolute_percentage_error', 'neg_mean_squared_error', 'neg_mean_squared_log_error', 'neg_root_mean_squared_error', 'neg_mean_poisson_deviance', 'neg_mean_gamma_deviance', 'accuracy', 'top_k_accuracy', 'roc_auc', 'roc_auc_ovr', 'roc_auc_ovo', 'roc_auc_ovr_weighted', 'roc_auc_ovo_weighted', 'balanced_accuracy', 'average_precision', 'neg_log_loss', 'neg_brier_score', 'adjusted_rand_score', 'rand_score', 'homogeneity_score', 'completeness_score', 'v_measure_score', 'mutual_info_score', 'adjusted_mutual_info_score', 'normalized_mutual_info_score', 'fowlkes_mallows_score', 'precision', 'precision_macro', 'precision_micro', 'precision_samples', 'precision_weighted', 'recall', 'recall_macro', 'recall_micro', 'recall_samples', 'recall_weighted', 'f1', 'f1_macro', 'f1_micro', 'f1_samples', 'f1_weighted', 'jaccard', 'jaccard_macro', 'jaccard_micro', 'jaccard_samples', 'jaccard_weighted'])"
      ]
     },
     "execution_count": 7,
     "metadata": {},
     "output_type": "execute_result"
    }
   ],
   "source": [
    "sklearn.metrics.SCORERS.keys()"
   ]
  },
  {
   "cell_type": "code",
   "execution_count": 8,
   "id": "d4acfe27",
   "metadata": {},
   "outputs": [
    {
     "name": "stdout",
     "output_type": "stream",
     "text": [
      "Fitting 10 folds for each of 201 candidates, totalling 2010 fits\n"
     ]
    },
    {
     "data": {
      "text/plain": [
       "GridSearchCV(cv=10, estimator=DecisionTreeRegressor(),\n",
       "             param_grid={'ccp_alpha': array([0.00e+00, 5.00e-05, 1.00e-04, 1.50e-04, 2.00e-04, 2.50e-04,\n",
       "       3.00e-04, 3.50e-04, 4.00e-04, 4.50e-04, 5.00e-04, 5.50e-04,\n",
       "       6.00e-04, 6.50e-04, 7.00e-04, 7.50e-04, 8.00e-04, 8.50e-04,\n",
       "       9.00e-04, 9.50e-04, 1.00e-03, 1.05e-03, 1.10e-03, 1.15e-03,\n",
       "       1.20e-03, 1.25e-03, 1.30e-03, 1.35e-03, 1.40e-03, 1.45e...\n",
       "       8.70e-03, 8.75e-03, 8.80e-03, 8.85e-03, 8.90e-03, 8.95e-03,\n",
       "       9.00e-03, 9.05e-03, 9.10e-03, 9.15e-03, 9.20e-03, 9.25e-03,\n",
       "       9.30e-03, 9.35e-03, 9.40e-03, 9.45e-03, 9.50e-03, 9.55e-03,\n",
       "       9.60e-03, 9.65e-03, 9.70e-03, 9.75e-03, 9.80e-03, 9.85e-03,\n",
       "       9.90e-03, 9.95e-03, 1.00e-02]),\n",
       "                         'min_samples_leaf': [5], 'min_samples_split': [20],\n",
       "                         'random_state': [88]},\n",
       "             scoring='neg_root_mean_squared_error', verbose=1)"
      ]
     },
     "execution_count": 8,
     "metadata": {},
     "output_type": "execute_result"
    }
   ],
   "source": [
    "reg_tree_b2 = DecisionTreeRegressor()\n",
    "grid_values_b2 = {'ccp_alpha': np.linspace(0, 0.010, 201),\n",
    "                  'min_samples_leaf': [5],\n",
    "                  'min_samples_split': [20],\n",
    "                  #'max_depth': [30],\n",
    "                  'random_state': [88]}\n",
    "  \n",
    "reg_tree_cv_b2 = GridSearchCV(reg_tree_b2, param_grid = grid_values_b2, scoring = 'neg_root_mean_squared_error', cv = 10, verbose = 1) \n",
    "reg_tree_cv_b2.fit(x_train, y_train)"
   ]
  },
  {
   "cell_type": "code",
   "execution_count": 9,
   "id": "c4a4ec97",
   "metadata": {
    "scrolled": true
   },
   "outputs": [
    {
     "data": {
      "text/html": [
       "<div>\n",
       "<style scoped>\n",
       "    .dataframe tbody tr th:only-of-type {\n",
       "        vertical-align: middle;\n",
       "    }\n",
       "\n",
       "    .dataframe tbody tr th {\n",
       "        vertical-align: top;\n",
       "    }\n",
       "\n",
       "    .dataframe thead th {\n",
       "        text-align: right;\n",
       "    }\n",
       "</style>\n",
       "<table border=\"1\" class=\"dataframe\">\n",
       "  <thead>\n",
       "    <tr style=\"text-align: right;\">\n",
       "      <th></th>\n",
       "      <th>ccp alpha</th>\n",
       "      <th>RMSE</th>\n",
       "    </tr>\n",
       "  </thead>\n",
       "  <tbody>\n",
       "    <tr>\n",
       "      <th>0</th>\n",
       "      <td>0.0</td>\n",
       "      <td>-0.815328</td>\n",
       "    </tr>\n",
       "    <tr>\n",
       "      <th>1</th>\n",
       "      <td>0.00005</td>\n",
       "      <td>-0.815291</td>\n",
       "    </tr>\n",
       "    <tr>\n",
       "      <th>2</th>\n",
       "      <td>0.0001</td>\n",
       "      <td>-0.814333</td>\n",
       "    </tr>\n",
       "    <tr>\n",
       "      <th>3</th>\n",
       "      <td>0.00015</td>\n",
       "      <td>-0.809104</td>\n",
       "    </tr>\n",
       "    <tr>\n",
       "      <th>4</th>\n",
       "      <td>0.0002</td>\n",
       "      <td>-0.806417</td>\n",
       "    </tr>\n",
       "    <tr>\n",
       "      <th>5</th>\n",
       "      <td>0.00025</td>\n",
       "      <td>-0.800163</td>\n",
       "    </tr>\n",
       "    <tr>\n",
       "      <th>6</th>\n",
       "      <td>0.0003</td>\n",
       "      <td>-0.792480</td>\n",
       "    </tr>\n",
       "    <tr>\n",
       "      <th>7</th>\n",
       "      <td>0.00035</td>\n",
       "      <td>-0.787038</td>\n",
       "    </tr>\n",
       "    <tr>\n",
       "      <th>8</th>\n",
       "      <td>0.0004</td>\n",
       "      <td>-0.781717</td>\n",
       "    </tr>\n",
       "    <tr>\n",
       "      <th>9</th>\n",
       "      <td>0.00045</td>\n",
       "      <td>-0.777102</td>\n",
       "    </tr>\n",
       "    <tr>\n",
       "      <th>10</th>\n",
       "      <td>0.0005</td>\n",
       "      <td>-0.775244</td>\n",
       "    </tr>\n",
       "    <tr>\n",
       "      <th>11</th>\n",
       "      <td>0.00055</td>\n",
       "      <td>-0.772869</td>\n",
       "    </tr>\n",
       "    <tr>\n",
       "      <th>12</th>\n",
       "      <td>0.0006</td>\n",
       "      <td>-0.772512</td>\n",
       "    </tr>\n",
       "    <tr>\n",
       "      <th>13</th>\n",
       "      <td>0.00065</td>\n",
       "      <td>-0.772167</td>\n",
       "    </tr>\n",
       "    <tr>\n",
       "      <th>14</th>\n",
       "      <td>0.0007</td>\n",
       "      <td>-0.770611</td>\n",
       "    </tr>\n",
       "    <tr>\n",
       "      <th>15</th>\n",
       "      <td>0.00075</td>\n",
       "      <td>-0.771872</td>\n",
       "    </tr>\n",
       "    <tr>\n",
       "      <th>16</th>\n",
       "      <td>0.0008</td>\n",
       "      <td>-0.770410</td>\n",
       "    </tr>\n",
       "    <tr>\n",
       "      <th>17</th>\n",
       "      <td>0.00085</td>\n",
       "      <td>-0.771177</td>\n",
       "    </tr>\n",
       "    <tr>\n",
       "      <th>18</th>\n",
       "      <td>0.0009</td>\n",
       "      <td>-0.770366</td>\n",
       "    </tr>\n",
       "    <tr>\n",
       "      <th>19</th>\n",
       "      <td>0.00095</td>\n",
       "      <td>-0.770262</td>\n",
       "    </tr>\n",
       "  </tbody>\n",
       "</table>\n",
       "</div>"
      ],
      "text/plain": [
       "   ccp alpha      RMSE\n",
       "0        0.0 -0.815328\n",
       "1    0.00005 -0.815291\n",
       "2     0.0001 -0.814333\n",
       "3    0.00015 -0.809104\n",
       "4     0.0002 -0.806417\n",
       "5    0.00025 -0.800163\n",
       "6     0.0003 -0.792480\n",
       "7    0.00035 -0.787038\n",
       "8     0.0004 -0.781717\n",
       "9    0.00045 -0.777102\n",
       "10    0.0005 -0.775244\n",
       "11   0.00055 -0.772869\n",
       "12    0.0006 -0.772512\n",
       "13   0.00065 -0.772167\n",
       "14    0.0007 -0.770611\n",
       "15   0.00075 -0.771872\n",
       "16    0.0008 -0.770410\n",
       "17   0.00085 -0.771177\n",
       "18    0.0009 -0.770366\n",
       "19   0.00095 -0.770262"
      ]
     },
     "execution_count": 9,
     "metadata": {},
     "output_type": "execute_result"
    }
   ],
   "source": [
    "rmse = reg_tree_cv_b2.cv_results_['mean_test_score']\n",
    "ccp = reg_tree_cv_b2.cv_results_['param_ccp_alpha'].data\n",
    "\n",
    "b2_df = pd.DataFrame({'ccp alpha' : ccp, 'RMSE': rmse})\n",
    "b2_df.head(20)"
   ]
  },
  {
   "cell_type": "code",
   "execution_count": 11,
   "id": "8fc71b53",
   "metadata": {
    "scrolled": true
   },
   "outputs": [
    {
     "data": {
      "image/png": "[encoded data removed]",
      "text/plain": [
       "<Figure size 576x432 with 1 Axes>"
      ]
     },
     "metadata": {
      "needs_background": "light"
     },
     "output_type": "display_data"
    }
   ],
   "source": [
    "plt.figure(figsize=(8, 6))\n",
    "plt.xlabel('ccp alpha', fontsize=16)\n",
    "plt.ylabel('rmse', fontsize=16)\n",
    "plt.scatter(ccp, rmse, s=2)\n",
    "plt.plot(ccp, rmse, linewidth=3)\n",
    "plt.grid(True, which='both')\n",
    "plt.show()"
   ]
  },
  {
   "cell_type": "code",
   "execution_count": 16,
   "id": "dc915a8c",
   "metadata": {},
   "outputs": [
    {
     "data": {
      "text/plain": [
       "-0.7689782968516233"
      ]
     },
     "execution_count": 16,
     "metadata": {},
     "output_type": "execute_result"
    }
   ],
   "source": [
    "reg_tree_best_rmse = reg_tree_cv_b2.best_score_\n",
    "reg_tree_best_rmse"
   ]
  },
  {
   "cell_type": "code",
   "execution_count": 17,
   "id": "db953823",
   "metadata": {},
   "outputs": [
    {
     "data": {
      "text/plain": [
       "0.00115"
      ]
     },
     "execution_count": 17,
     "metadata": {},
     "output_type": "execute_result"
    }
   ],
   "source": [
    "reg_tree_best_complexity_parameter = b2_df[b2_df['RMSE'] == reg_tree_best_rmse]['ccp alpha'].iloc[0]\n",
    "reg_tree_best_complexity_parameter"
   ]
  },
  {
   "cell_type": "markdown",
   "id": "78490bd9",
   "metadata": {},
   "source": [
    "## b.iii)"
   ]
  },
  {
   "cell_type": "code",
   "execution_count": 10,
   "id": "94e6332e",
   "metadata": {},
   "outputs": [],
   "source": [
    "def OSR2_lin(model, df_train, df_test, dependent_var):   \n",
    "    y_test = df_test[dependent_var]\n",
    "    y_pred = model.predict(df_test)\n",
    "    SSE = np.sum((y_test - y_pred)**2)\n",
    "    SST = np.sum((y_test - np.mean(df_train[dependent_var]))**2)    \n",
    "    return 1 - SSE/SST\n",
    "\n",
    "def OSR2_tree(model, X_test, y_test, y_train):\n",
    "    y_pred = model.predict(X_test)\n",
    "    SSE = np.sum((y_test - y_pred)**2)\n",
    "    SST = np.sum((y_test - np.mean(y_train))**2)\n",
    "    return (1 - SSE/SST)"
   ]
  },
  {
   "cell_type": "code",
   "execution_count": 11,
   "id": "d78b4612",
   "metadata": {},
   "outputs": [
    {
     "name": "stdout",
     "output_type": "stream",
     "text": [
      "Linear Regression OSR2: 0.1457737680162715\n",
      "Linear Regression MAE: 0.6295425742392496\n",
      "Regression Tree OSR2: 0.15283870936866095\n",
      "Regression Tree MAE: 0.6160827146252122\n"
     ]
    }
   ],
   "source": [
    "print('Linear Regression OSR2:', OSR2_lin(model_b1, yelp_train, yelp_test, 'stars'))\n",
    "print('Linear Regression MAE:', mae(model_b1.predict(yelp_test), y_test))\n",
    "print('Regression Tree OSR2:', OSR2_tree(reg_tree_cv_b2, x_test, y_test, y_train))\n",
    "print('Regression Tree MAE:', mae(reg_tree_cv_b2.predict(x_test), y_test))"
   ]
  },
  {
   "cell_type": "markdown",
   "id": "003e6874",
   "metadata": {},
   "source": [
    "## c.i)"
   ]
  },
  {
   "cell_type": "code",
   "execution_count": 12,
   "id": "fb50e993",
   "metadata": {},
   "outputs": [],
   "source": [
    "yelp_train['fourOrAbove'] = pd.Series([1 if x >= 4 else 0 for x in yelp_train['stars']])\n",
    "yelp_test['fourOrAbove'] = pd.Series([1 if x >= 4 else 0 for x in yelp_test['stars']])"
   ]
  },
  {
   "cell_type": "markdown",
   "id": "c4c4b05a",
   "metadata": {},
   "source": [
    "## d.ii)"
   ]
  },
  {
   "cell_type": "code",
   "execution_count": 13,
   "id": "955b4e24",
   "metadata": {},
   "outputs": [],
   "source": [
    "lin_pred = model_b1.predict(yelp_test)\n",
    "lin_pred_0_1 = pd.Series([1 if x >= 4 else 0 for x in lin_pred])\n",
    "\n",
    "tree_pred = reg_tree_cv_b2.predict(x_test)\n",
    "tree_pred_0_1 = pd.Series([1 if x >= 4 else 0 for x in tree_pred])"
   ]
  },
  {
   "cell_type": "markdown",
   "id": "2dd59024",
   "metadata": {},
   "source": [
    "## d.iii)"
   ]
  },
  {
   "cell_type": "code",
   "execution_count": 14,
   "id": "a5a81e66",
   "metadata": {
    "scrolled": true
   },
   "outputs": [
    {
     "name": "stdout",
     "output_type": "stream",
     "text": [
      "Optimization terminated successfully.\n",
      "         Current function value: 0.603049\n",
      "         Iterations 6\n"
     ]
    },
    {
     "data": {
      "text/html": [
       "<table class=\"simpletable\">\n",
       "<caption>Logit Regression Results</caption>\n",
       "<tr>\n",
       "  <th>Dep. Variable:</th>      <td>fourOrAbove</td>   <th>  No. Observations:  </th>   <td>  6272</td>  \n",
       "</tr>\n",
       "<tr>\n",
       "  <th>Model:</th>                 <td>Logit</td>      <th>  Df Residuals:      </th>   <td>  6246</td>  \n",
       "</tr>\n",
       "<tr>\n",
       "  <th>Method:</th>                 <td>MLE</td>       <th>  Df Model:          </th>   <td>    25</td>  \n",
       "</tr>\n",
       "<tr>\n",
       "  <th>Date:</th>            <td>Mon, 18 Oct 2021</td> <th>  Pseudo R-squ.:     </th>   <td>0.1209</td>  \n",
       "</tr>\n",
       "<tr>\n",
       "  <th>Time:</th>                <td>01:00:52</td>     <th>  Log-Likelihood:    </th>  <td> -3782.3</td> \n",
       "</tr>\n",
       "<tr>\n",
       "  <th>converged:</th>             <td>True</td>       <th>  LL-Null:           </th>  <td> -4302.5</td> \n",
       "</tr>\n",
       "<tr>\n",
       "  <th>Covariance Type:</th>     <td>nonrobust</td>    <th>  LLR p-value:       </th> <td>1.634e-203</td>\n",
       "</tr>\n",
       "</table>\n",
       "<table class=\"simpletable\">\n",
       "<tr>\n",
       "                                      <td></td>                                        <th>coef</th>     <th>std err</th>      <th>z</th>      <th>P>|z|</th>  <th>[0.025</th>    <th>0.975]</th>  \n",
       "</tr>\n",
       "<tr>\n",
       "  <th>Intercept</th>                                                                <td>   -0.4425</td> <td>    0.105</td> <td>   -4.219</td> <td> 0.000</td> <td>   -0.648</td> <td>   -0.237</td>\n",
       "</tr>\n",
       "<tr>\n",
       "  <th>C(GoodForKids, Treatment(reference='(Missing)'))[T.FALSE]</th>                <td>    0.2585</td> <td>    0.130</td> <td>    1.986</td> <td> 0.047</td> <td>    0.003</td> <td>    0.514</td>\n",
       "</tr>\n",
       "<tr>\n",
       "  <th>C(GoodForKids, Treatment(reference='(Missing)'))[T.TRUE]</th>                 <td>   -0.2006</td> <td>    0.101</td> <td>   -1.977</td> <td> 0.048</td> <td>   -0.400</td> <td>   -0.002</td>\n",
       "</tr>\n",
       "<tr>\n",
       "  <th>C(Alcohol, Treatment(reference='(Missing)'))[T.'beer_and_wine']</th>          <td>    0.3357</td> <td>    0.136</td> <td>    2.463</td> <td> 0.014</td> <td>    0.069</td> <td>    0.603</td>\n",
       "</tr>\n",
       "<tr>\n",
       "  <th>C(Alcohol, Treatment(reference='(Missing)'))[T.'full_bar']</th>               <td>   -0.0452</td> <td>    0.126</td> <td>   -0.358</td> <td> 0.720</td> <td>   -0.292</td> <td>    0.202</td>\n",
       "</tr>\n",
       "<tr>\n",
       "  <th>C(Alcohol, Treatment(reference='(Missing)'))[T.'none']</th>                   <td>    0.3954</td> <td>    0.113</td> <td>    3.503</td> <td> 0.000</td> <td>    0.174</td> <td>    0.617</td>\n",
       "</tr>\n",
       "<tr>\n",
       "  <th>C(BusinessAcceptsCreditCards, Treatment(reference='(Missing)'))[T.FALSE]</th> <td>    1.1767</td> <td>    0.259</td> <td>    4.540</td> <td> 0.000</td> <td>    0.669</td> <td>    1.685</td>\n",
       "</tr>\n",
       "<tr>\n",
       "  <th>C(BusinessAcceptsCreditCards, Treatment(reference='(Missing)'))[T.TRUE]</th>  <td>    0.1375</td> <td>    0.124</td> <td>    1.105</td> <td> 0.269</td> <td>   -0.106</td> <td>    0.381</td>\n",
       "</tr>\n",
       "<tr>\n",
       "  <th>C(WiFi, Treatment(reference='(Missing)'))[T.'free']</th>                      <td>    0.2966</td> <td>    0.098</td> <td>    3.025</td> <td> 0.002</td> <td>    0.104</td> <td>    0.489</td>\n",
       "</tr>\n",
       "<tr>\n",
       "  <th>C(WiFi, Treatment(reference='(Missing)'))[T.'no']</th>                        <td>    0.2490</td> <td>    0.094</td> <td>    2.637</td> <td> 0.008</td> <td>    0.064</td> <td>    0.434</td>\n",
       "</tr>\n",
       "<tr>\n",
       "  <th>C(WiFi, Treatment(reference='(Missing)'))[T.'paid']</th>                      <td>   -0.5527</td> <td>    0.325</td> <td>   -1.699</td> <td> 0.089</td> <td>   -1.190</td> <td>    0.085</td>\n",
       "</tr>\n",
       "<tr>\n",
       "  <th>C(BikeParking, Treatment(reference='(Missing)'))[T.FALSE]</th>                <td>   -0.4221</td> <td>    0.092</td> <td>   -4.609</td> <td> 0.000</td> <td>   -0.602</td> <td>   -0.243</td>\n",
       "</tr>\n",
       "<tr>\n",
       "  <th>C(BikeParking, Treatment(reference='(Missing)'))[T.TRUE]</th>                 <td>   -0.2906</td> <td>    0.081</td> <td>   -3.594</td> <td> 0.000</td> <td>   -0.449</td> <td>   -0.132</td>\n",
       "</tr>\n",
       "<tr>\n",
       "  <th>C(ByAppointmentOnly, Treatment(reference='(Missing)'))[T.FALSE]</th>          <td>    0.4338</td> <td>    0.098</td> <td>    4.423</td> <td> 0.000</td> <td>    0.242</td> <td>    0.626</td>\n",
       "</tr>\n",
       "<tr>\n",
       "  <th>C(ByAppointmentOnly, Treatment(reference='(Missing)'))[T.TRUE]</th>           <td>    0.5371</td> <td>    0.308</td> <td>    1.746</td> <td> 0.081</td> <td>   -0.066</td> <td>    1.140</td>\n",
       "</tr>\n",
       "<tr>\n",
       "  <th>C(WheelechairAccessible, Treatment(reference='(Missing)'))[T.FALSE]</th>      <td>    1.8650</td> <td>    0.319</td> <td>    5.850</td> <td> 0.000</td> <td>    1.240</td> <td>    2.490</td>\n",
       "</tr>\n",
       "<tr>\n",
       "  <th>C(WheelechairAccessible, Treatment(reference='(Missing)'))[T.TRUE]</th>       <td>    0.9883</td> <td>    0.077</td> <td>   12.836</td> <td> 0.000</td> <td>    0.837</td> <td>    1.139</td>\n",
       "</tr>\n",
       "<tr>\n",
       "  <th>C(OutdoorSeating, Treatment(reference='(Missing)'))[T.FALSE]</th>             <td>   -0.4577</td> <td>    0.112</td> <td>   -4.073</td> <td> 0.000</td> <td>   -0.678</td> <td>   -0.237</td>\n",
       "</tr>\n",
       "<tr>\n",
       "  <th>C(OutdoorSeating, Treatment(reference='(Missing)'))[T.TRUE]</th>              <td>   -0.2323</td> <td>    0.120</td> <td>   -1.943</td> <td> 0.052</td> <td>   -0.467</td> <td>    0.002</td>\n",
       "</tr>\n",
       "<tr>\n",
       "  <th>C(RestaurantsReservations, Treatment(reference='(Missing)'))[T.FALSE]</th>    <td>   -0.4095</td> <td>    0.115</td> <td>   -3.564</td> <td> 0.000</td> <td>   -0.635</td> <td>   -0.184</td>\n",
       "</tr>\n",
       "<tr>\n",
       "  <th>C(RestaurantsReservations, Treatment(reference='(Missing)'))[T.TRUE]</th>     <td>    0.0775</td> <td>    0.129</td> <td>    0.602</td> <td> 0.547</td> <td>   -0.175</td> <td>    0.330</td>\n",
       "</tr>\n",
       "<tr>\n",
       "  <th>C(DogsAllowed, Treatment(reference='(Missing)'))[T.FALSE]</th>                <td>    0.7588</td> <td>    0.083</td> <td>    9.187</td> <td> 0.000</td> <td>    0.597</td> <td>    0.921</td>\n",
       "</tr>\n",
       "<tr>\n",
       "  <th>C(DogsAllowed, Treatment(reference='(Missing)'))[T.TRUE]</th>                 <td>    0.4872</td> <td>    0.157</td> <td>    3.102</td> <td> 0.002</td> <td>    0.179</td> <td>    0.795</td>\n",
       "</tr>\n",
       "<tr>\n",
       "  <th>C(Caters, Treatment(reference='(Missing)'))[T.FALSE]</th>                     <td>   -0.3975</td> <td>    0.086</td> <td>   -4.624</td> <td> 0.000</td> <td>   -0.566</td> <td>   -0.229</td>\n",
       "</tr>\n",
       "<tr>\n",
       "  <th>C(Caters, Treatment(reference='(Missing)'))[T.TRUE]</th>                      <td>    0.1282</td> <td>    0.092</td> <td>    1.396</td> <td> 0.163</td> <td>   -0.052</td> <td>    0.308</td>\n",
       "</tr>\n",
       "<tr>\n",
       "  <th>review_count</th>                                                             <td>    0.0004</td> <td> 9.48e-05</td> <td>    4.606</td> <td> 0.000</td> <td>    0.000</td> <td>    0.001</td>\n",
       "</tr>\n",
       "</table>"
      ],
      "text/plain": [
       "<class 'statsmodels.iolib.summary.Summary'>\n",
       "\"\"\"\n",
       "                           Logit Regression Results                           \n",
       "==============================================================================\n",
       "Dep. Variable:            fourOrAbove   No. Observations:                 6272\n",
       "Model:                          Logit   Df Residuals:                     6246\n",
       "Method:                           MLE   Df Model:                           25\n",
       "Date:                Mon, 18 Oct 2021   Pseudo R-squ.:                  0.1209\n",
       "Time:                        01:00:52   Log-Likelihood:                -3782.3\n",
       "converged:                       True   LL-Null:                       -4302.5\n",
       "Covariance Type:            nonrobust   LLR p-value:                1.634e-203\n",
       "============================================================================================================================================\n",
       "                                                                               coef    std err          z      P>|z|      [0.025      0.975]\n",
       "--------------------------------------------------------------------------------------------------------------------------------------------\n",
       "Intercept                                                                   -0.4425      0.105     -4.219      0.000      -0.648      -0.237\n",
       "C(GoodForKids, Treatment(reference='(Missing)'))[T.FALSE]                    0.2585      0.130      1.986      0.047       0.003       0.514\n",
       "C(GoodForKids, Treatment(reference='(Missing)'))[T.TRUE]                    -0.2006      0.101     -1.977      0.048      -0.400      -0.002\n",
       "C(Alcohol, Treatment(reference='(Missing)'))[T.'beer_and_wine']              0.3357      0.136      2.463      0.014       0.069       0.603\n",
       "C(Alcohol, Treatment(reference='(Missing)'))[T.'full_bar']                  -0.0452      0.126     -0.358      0.720      -0.292       0.202\n",
       "C(Alcohol, Treatment(reference='(Missing)'))[T.'none']                       0.3954      0.113      3.503      0.000       0.174       0.617\n",
       "C(BusinessAcceptsCreditCards, Treatment(reference='(Missing)'))[T.FALSE]     1.1767      0.259      4.540      0.000       0.669       1.685\n",
       "C(BusinessAcceptsCreditCards, Treatment(reference='(Missing)'))[T.TRUE]      0.1375      0.124      1.105      0.269      -0.106       0.381\n",
       "C(WiFi, Treatment(reference='(Missing)'))[T.'free']                          0.2966      0.098      3.025      0.002       0.104       0.489\n",
       "C(WiFi, Treatment(reference='(Missing)'))[T.'no']                            0.2490      0.094      2.637      0.008       0.064       0.434\n",
       "C(WiFi, Treatment(reference='(Missing)'))[T.'paid']                         -0.5527      0.325     -1.699      0.089      -1.190       0.085\n",
       "C(BikeParking, Treatment(reference='(Missing)'))[T.FALSE]                   -0.4221      0.092     -4.609      0.000      -0.602      -0.243\n",
       "C(BikeParking, Treatment(reference='(Missing)'))[T.TRUE]                    -0.2906      0.081     -3.594      0.000      -0.449      -0.132\n",
       "C(ByAppointmentOnly, Treatment(reference='(Missing)'))[T.FALSE]              0.4338      0.098      4.423      0.000       0.242       0.626\n",
       "C(ByAppointmentOnly, Treatment(reference='(Missing)'))[T.TRUE]               0.5371      0.308      1.746      0.081      -0.066       1.140\n",
       "C(WheelechairAccessible, Treatment(reference='(Missing)'))[T.FALSE]          1.8650      0.319      5.850      0.000       1.240       2.490\n",
       "C(WheelechairAccessible, Treatment(reference='(Missing)'))[T.TRUE]           0.9883      0.077     12.836      0.000       0.837       1.139\n",
       "C(OutdoorSeating, Treatment(reference='(Missing)'))[T.FALSE]                -0.4577      0.112     -4.073      0.000      -0.678      -0.237\n",
       "C(OutdoorSeating, Treatment(reference='(Missing)'))[T.TRUE]                 -0.2323      0.120     -1.943      0.052      -0.467       0.002\n",
       "C(RestaurantsReservations, Treatment(reference='(Missing)'))[T.FALSE]       -0.4095      0.115     -3.564      0.000      -0.635      -0.184\n",
       "C(RestaurantsReservations, Treatment(reference='(Missing)'))[T.TRUE]         0.0775      0.129      0.602      0.547      -0.175       0.330\n",
       "C(DogsAllowed, Treatment(reference='(Missing)'))[T.FALSE]                    0.7588      0.083      9.187      0.000       0.597       0.921\n",
       "C(DogsAllowed, Treatment(reference='(Missing)'))[T.TRUE]                     0.4872      0.157      3.102      0.002       0.179       0.795\n",
       "C(Caters, Treatment(reference='(Missing)'))[T.FALSE]                        -0.3975      0.086     -4.624      0.000      -0.566      -0.229\n",
       "C(Caters, Treatment(reference='(Missing)'))[T.TRUE]                          0.1282      0.092      1.396      0.163      -0.052       0.308\n",
       "review_count                                                                 0.0004   9.48e-05      4.606      0.000       0.000       0.001\n",
       "============================================================================================================================================\n",
       "\"\"\""
      ]
     },
     "execution_count": 14,
     "metadata": {},
     "output_type": "execute_result"
    }
   ],
   "source": [
    "log_model_d3 = smf.logit(formula = \"fourOrAbove ~ review_count + \\\n",
    "                                    C(GoodForKids,Treatment(reference='(Missing)')) + \\\n",
    "                                    C(Alcohol, Treatment(reference='(Missing)')) + \\\n",
    "                                    C(BusinessAcceptsCreditCards,Treatment(reference='(Missing)')) + \\\n",
    "                                    C(WiFi, Treatment(reference='(Missing)')) + \\\n",
    "                                    C(BikeParking,Treatment(reference='(Missing)')) + \\\n",
    "                                    C(ByAppointmentOnly,Treatment(reference='(Missing)')) + \\\n",
    "                                    C(WheelechairAccessible, Treatment(reference='(Missing)')) + \\\n",
    "                                    C(OutdoorSeating,Treatment(reference='(Missing)')) + \\\n",
    "                                    C(RestaurantsReservations, Treatment(reference='(Missing)')) + \\\n",
    "                                    C(DogsAllowed,Treatment(reference='(Missing)')) + \\\n",
    "                                    C(Caters, Treatment(reference='(Missing)'))\", data = yelp_train).fit()\n",
    "log_model_d3.summary()"
   ]
  },
  {
   "cell_type": "markdown",
   "id": "90b6679c",
   "metadata": {},
   "source": [
    "## d.iv)"
   ]
  },
  {
   "cell_type": "code",
   "execution_count": 15,
   "id": "c42c600c",
   "metadata": {},
   "outputs": [],
   "source": [
    "x_train_new = pd.get_dummies(yelp_train.iloc[:,1:13])\n",
    "x_test_new = pd.get_dummies(yelp_test.iloc[:,1:13])\n",
    "y_train_new = yelp_train['fourOrAbove']\n",
    "y_test_new = yelp_test['fourOrAbove']"
   ]
  },
  {
   "cell_type": "code",
   "execution_count": 16,
   "id": "80da91c7",
   "metadata": {},
   "outputs": [
    {
     "name": "stdout",
     "output_type": "stream",
     "text": [
      "Fitting 10 folds for each of 201 candidates, totalling 2010 fits\n"
     ]
    },
    {
     "data": {
      "text/plain": [
       "GridSearchCV(cv=10, estimator=DecisionTreeClassifier(),\n",
       "             param_grid={'ccp_alpha': array([0.00e+00, 5.00e-05, 1.00e-04, 1.50e-04, 2.00e-04, 2.50e-04,\n",
       "       3.00e-04, 3.50e-04, 4.00e-04, 4.50e-04, 5.00e-04, 5.50e-04,\n",
       "       6.00e-04, 6.50e-04, 7.00e-04, 7.50e-04, 8.00e-04, 8.50e-04,\n",
       "       9.00e-04, 9.50e-04, 1.00e-03, 1.05e-03, 1.10e-03, 1.15e-03,\n",
       "       1.20e-03, 1.25e-03, 1.30e-03, 1.35e-03, 1.40e-03, 1.45...\n",
       "       8.40e-03, 8.45e-03, 8.50e-03, 8.55e-03, 8.60e-03, 8.65e-03,\n",
       "       8.70e-03, 8.75e-03, 8.80e-03, 8.85e-03, 8.90e-03, 8.95e-03,\n",
       "       9.00e-03, 9.05e-03, 9.10e-03, 9.15e-03, 9.20e-03, 9.25e-03,\n",
       "       9.30e-03, 9.35e-03, 9.40e-03, 9.45e-03, 9.50e-03, 9.55e-03,\n",
       "       9.60e-03, 9.65e-03, 9.70e-03, 9.75e-03, 9.80e-03, 9.85e-03,\n",
       "       9.90e-03, 9.95e-03, 1.00e-02]),\n",
       "                         'min_samples_leaf': [5], 'min_samples_split': [20],\n",
       "                         'random_state': [88]},\n",
       "             verbose=1)"
      ]
     },
     "execution_count": 16,
     "metadata": {},
     "output_type": "execute_result"
    }
   ],
   "source": [
    "dec_tree = DecisionTreeClassifier()\n",
    "grid_values_d4 = {'ccp_alpha': np.linspace(0, 0.010, 201),\n",
    "                  'min_samples_leaf': [5],\n",
    "                  'min_samples_split': [20],\n",
    "                  #'max_depth': [30],\n",
    "                  'random_state': [88]}\n",
    "  \n",
    "dec_tree_cv_d4 = GridSearchCV(dec_tree, param_grid = grid_values_d4, cv = 10, verbose = 1) \n",
    "dec_tree_cv_d4.fit(x_train_new, y_train_new)"
   ]
  },
  {
   "cell_type": "code",
   "execution_count": 17,
   "id": "24b2057e",
   "metadata": {},
   "outputs": [
    {
     "data": {
      "text/html": [
       "<div>\n",
       "<style scoped>\n",
       "    .dataframe tbody tr th:only-of-type {\n",
       "        vertical-align: middle;\n",
       "    }\n",
       "\n",
       "    .dataframe tbody tr th {\n",
       "        vertical-align: top;\n",
       "    }\n",
       "\n",
       "    .dataframe thead th {\n",
       "        text-align: right;\n",
       "    }\n",
       "</style>\n",
       "<table border=\"1\" class=\"dataframe\">\n",
       "  <thead>\n",
       "    <tr style=\"text-align: right;\">\n",
       "      <th></th>\n",
       "      <th>ccp alpha</th>\n",
       "      <th>Validation Accuracy</th>\n",
       "    </tr>\n",
       "  </thead>\n",
       "  <tbody>\n",
       "    <tr>\n",
       "      <th>0</th>\n",
       "      <td>0.0</td>\n",
       "      <td>0.638715</td>\n",
       "    </tr>\n",
       "    <tr>\n",
       "      <th>1</th>\n",
       "      <td>0.00005</td>\n",
       "      <td>0.639034</td>\n",
       "    </tr>\n",
       "    <tr>\n",
       "      <th>2</th>\n",
       "      <td>0.0001</td>\n",
       "      <td>0.638396</td>\n",
       "    </tr>\n",
       "    <tr>\n",
       "      <th>3</th>\n",
       "      <td>0.00015</td>\n",
       "      <td>0.635048</td>\n",
       "    </tr>\n",
       "    <tr>\n",
       "      <th>4</th>\n",
       "      <td>0.0002</td>\n",
       "      <td>0.643338</td>\n",
       "    </tr>\n",
       "    <tr>\n",
       "      <th>5</th>\n",
       "      <td>0.00025</td>\n",
       "      <td>0.652745</td>\n",
       "    </tr>\n",
       "    <tr>\n",
       "      <th>6</th>\n",
       "      <td>0.0003</td>\n",
       "      <td>0.655135</td>\n",
       "    </tr>\n",
       "    <tr>\n",
       "      <th>7</th>\n",
       "      <td>0.00035</td>\n",
       "      <td>0.660398</td>\n",
       "    </tr>\n",
       "    <tr>\n",
       "      <th>8</th>\n",
       "      <td>0.0004</td>\n",
       "      <td>0.666295</td>\n",
       "    </tr>\n",
       "    <tr>\n",
       "      <th>9</th>\n",
       "      <td>0.00045</td>\n",
       "      <td>0.666614</td>\n",
       "    </tr>\n",
       "    <tr>\n",
       "      <th>10</th>\n",
       "      <td>0.0005</td>\n",
       "      <td>0.665338</td>\n",
       "    </tr>\n",
       "    <tr>\n",
       "      <th>11</th>\n",
       "      <td>0.00055</td>\n",
       "      <td>0.665815</td>\n",
       "    </tr>\n",
       "    <tr>\n",
       "      <th>12</th>\n",
       "      <td>0.0006</td>\n",
       "      <td>0.665336</td>\n",
       "    </tr>\n",
       "    <tr>\n",
       "      <th>13</th>\n",
       "      <td>0.00065</td>\n",
       "      <td>0.666292</td>\n",
       "    </tr>\n",
       "    <tr>\n",
       "      <th>14</th>\n",
       "      <td>0.0007</td>\n",
       "      <td>0.662786</td>\n",
       "    </tr>\n",
       "    <tr>\n",
       "      <th>15</th>\n",
       "      <td>0.00075</td>\n",
       "      <td>0.661989</td>\n",
       "    </tr>\n",
       "    <tr>\n",
       "      <th>16</th>\n",
       "      <td>0.0008</td>\n",
       "      <td>0.659438</td>\n",
       "    </tr>\n",
       "    <tr>\n",
       "      <th>17</th>\n",
       "      <td>0.00085</td>\n",
       "      <td>0.660553</td>\n",
       "    </tr>\n",
       "    <tr>\n",
       "      <th>18</th>\n",
       "      <td>0.0009</td>\n",
       "      <td>0.660235</td>\n",
       "    </tr>\n",
       "    <tr>\n",
       "      <th>19</th>\n",
       "      <td>0.00095</td>\n",
       "      <td>0.659756</td>\n",
       "    </tr>\n",
       "  </tbody>\n",
       "</table>\n",
       "</div>"
      ],
      "text/plain": [
       "   ccp alpha  Validation Accuracy\n",
       "0        0.0             0.638715\n",
       "1    0.00005             0.639034\n",
       "2     0.0001             0.638396\n",
       "3    0.00015             0.635048\n",
       "4     0.0002             0.643338\n",
       "5    0.00025             0.652745\n",
       "6     0.0003             0.655135\n",
       "7    0.00035             0.660398\n",
       "8     0.0004             0.666295\n",
       "9    0.00045             0.666614\n",
       "10    0.0005             0.665338\n",
       "11   0.00055             0.665815\n",
       "12    0.0006             0.665336\n",
       "13   0.00065             0.666292\n",
       "14    0.0007             0.662786\n",
       "15   0.00075             0.661989\n",
       "16    0.0008             0.659438\n",
       "17   0.00085             0.660553\n",
       "18    0.0009             0.660235\n",
       "19   0.00095             0.659756"
      ]
     },
     "execution_count": 17,
     "metadata": {},
     "output_type": "execute_result"
    }
   ],
   "source": [
    "acc = dec_tree_cv_d4.cv_results_['mean_test_score'] \n",
    "ccp = dec_tree_cv_d4.cv_results_['param_ccp_alpha'].data\n",
    "\n",
    "d4_df = pd.DataFrame({'ccp alpha' : ccp, 'Validation Accuracy': acc})\n",
    "d4_df.head(20)"
   ]
  },
  {
   "cell_type": "code",
   "execution_count": 18,
   "id": "f634e903",
   "metadata": {},
   "outputs": [
    {
     "data": {
      "image/png": "[encoded data removed]",
      "text/plain": [
       "<Figure size 576x432 with 1 Axes>"
      ]
     },
     "metadata": {
      "needs_background": "light"
     },
     "output_type": "display_data"
    }
   ],
   "source": [
    "plt.figure(figsize=(8, 6))\n",
    "plt.xlabel('ccp alpha', fontsize=16)\n",
    "plt.ylabel('mean validation accuracy', fontsize=16)\n",
    "plt.scatter(ccp, acc, s=2)\n",
    "plt.plot(ccp, acc, linewidth=3)\n",
    "plt.grid(True, which='both')\n",
    "plt.show()"
   ]
  },
  {
   "cell_type": "code",
   "execution_count": 19,
   "id": "3622794c",
   "metadata": {},
   "outputs": [
    {
     "data": {
      "text/plain": [
       "0.6666140960391715"
      ]
     },
     "execution_count": 19,
     "metadata": {},
     "output_type": "execute_result"
    }
   ],
   "source": [
    "classification_tree_highest_acc = max(d4_df['Validation Accuracy'])\n",
    "classification_tree_highest_acc"
   ]
  },
  {
   "cell_type": "code",
   "execution_count": 20,
   "id": "a34edf4c",
   "metadata": {},
   "outputs": [
    {
     "data": {
      "text/plain": [
       "0.00045000000000000004"
      ]
     },
     "execution_count": 20,
     "metadata": {},
     "output_type": "execute_result"
    }
   ],
   "source": [
    "classification_tree_best_complexity_parameter = d4_df[d4_df['Validation Accuracy'] == classification_tree_highest_acc]['ccp alpha'].iloc[0]\n",
    "classification_tree_best_complexity_parameter"
   ]
  },
  {
   "cell_type": "markdown",
   "id": "403d953b",
   "metadata": {},
   "source": [
    "## d.v)"
   ]
  },
  {
   "cell_type": "code",
   "execution_count": 21,
   "id": "2d0a7e1f",
   "metadata": {},
   "outputs": [
    {
     "data": {
      "text/plain": [
       "0    3511\n",
       "1    2761\n",
       "Name: fourOrAbove, dtype: int64"
      ]
     },
     "metadata": {},
     "output_type": "display_data"
    },
    {
     "name": "stdout",
     "output_type": "stream",
     "text": [
      "The majority of values in the fourOrAbove column is 0\n"
     ]
    }
   ],
   "source": [
    "## Baseline Model\n",
    "display(yelp_train['fourOrAbove'].value_counts())\n",
    "\n",
    "print('The majority of values in the fourOrAbove column is 0')"
   ]
  },
  {
   "cell_type": "code",
   "execution_count": 22,
   "id": "994bd046",
   "metadata": {},
   "outputs": [
    {
     "name": "stdout",
     "output_type": "stream",
     "text": [
      "Baseline Predictions : \n",
      " 0    0\n",
      "1    0\n",
      "2    0\n",
      "3    0\n",
      "4    0\n",
      "dtype: int64\n",
      "Baseline Confusion Matrix : \n",
      " [[1495    0]\n",
      " [1193    0]]\n",
      "Baseline Model Accuracy : 0.5561755952380952\n",
      "Baseline Model TPR : 0.0 \n",
      "Baseline Model FPR : 0.0\n"
     ]
    }
   ],
   "source": [
    "baseline_predictions = pd.Series([0 for x in yelp_test['fourOrAbove']])\n",
    "print('Baseline Predictions : \\n', baseline_predictions.head())\n",
    "cm_baseline = confusion_matrix(y_test_new, baseline_predictions)\n",
    "print(\"Baseline Confusion Matrix : \\n\", cm_baseline) \n",
    "accuracy_baseline = (cm_baseline.ravel()[0] + cm_baseline.ravel()[3]) / sum(cm_baseline.ravel())\n",
    "print('Baseline Model Accuracy :', accuracy_baseline)\n",
    "tpr_baseline = cm_baseline.ravel()[3] / (cm_baseline.ravel()[2] + cm_baseline.ravel()[3])\n",
    "fpr_baseline = cm_baseline.ravel()[1] / (cm_baseline.ravel()[0] + cm_baseline.ravel()[1])\n",
    "print('Baseline Model TPR :', tpr_baseline,'\\nBaseline Model FPR :', fpr_baseline)"
   ]
  },
  {
   "cell_type": "code",
   "execution_count": 23,
   "id": "8c0ee70e",
   "metadata": {},
   "outputs": [
    {
     "name": "stdout",
     "output_type": "stream",
     "text": [
      "Linear Regression Predictions : \n",
      " 0    0\n",
      "1    0\n",
      "2    0\n",
      "3    0\n",
      "4    0\n",
      "dtype: int64\n",
      "Linear Regression Confusion Matrix : \n",
      " [[1419   76]\n",
      " [ 942  251]]\n",
      "Linear Regression Model Accuracy : 0.6212797619047619\n",
      "Linear Regression Model TPR : 0.21039396479463537 \n",
      "Linear Regression Model FPR : 0.050836120401337795\n"
     ]
    }
   ],
   "source": [
    "## Linear Regression Model\n",
    "lin_reg_predictions_raw = model_b1.predict(yelp_test)\n",
    "lin_reg_predictions = pd.Series([1 if x >= 4 else 0 for x in lin_reg_predictions_raw])\n",
    "print('Linear Regression Predictions : \\n', lin_reg_predictions.head())\n",
    "cm_lin_reg = confusion_matrix(y_test_new, lin_reg_predictions)\n",
    "print(\"Linear Regression Confusion Matrix : \\n\", cm_lin_reg) \n",
    "accuracy_lin_reg = (cm_lin_reg.ravel()[0] + cm_lin_reg.ravel()[3]) / sum(cm_lin_reg.ravel())\n",
    "print('Linear Regression Model Accuracy :', accuracy_lin_reg)\n",
    "tpr_lin_reg = cm_lin_reg.ravel()[3] / (cm_lin_reg.ravel()[2] + cm_lin_reg.ravel()[3])\n",
    "fpr_lin_reg = cm_lin_reg.ravel()[1] / (cm_lin_reg.ravel()[0] + cm_lin_reg.ravel()[1])\n",
    "print('Linear Regression Model TPR :', tpr_lin_reg,'\\nLinear Regression Model FPR :', fpr_lin_reg)"
   ]
  },
  {
   "cell_type": "code",
   "execution_count": 24,
   "id": "6beb64e3",
   "metadata": {},
   "outputs": [
    {
     "name": "stdout",
     "output_type": "stream",
     "text": [
      "Regression Tree Predictions : \n",
      " 0    0\n",
      "1    0\n",
      "2    0\n",
      "3    0\n",
      "4    0\n",
      "dtype: int64\n",
      "Regression Tree Confusion Matrix : \n",
      " [[1445   50]\n",
      " [1005  188]]\n",
      "Regression Tree Model Accuracy : 0.6075148809523809\n",
      "Regression Tree Model TPR : 0.15758591785414922 \n",
      "Regression Tree Model FPR : 0.033444816053511704\n"
     ]
    }
   ],
   "source": [
    "## Regression Tree Model\n",
    "reg_tree_predictions_raw = reg_tree_cv_b2.best_estimator_.predict(x_test)\n",
    "reg_tree_predictions = pd.Series([1 if x >= 4 else 0 for x in reg_tree_predictions_raw])\n",
    "print('Regression Tree Predictions : \\n', reg_tree_predictions.head())\n",
    "cm_reg_tree = confusion_matrix(y_test_new, reg_tree_predictions)\n",
    "print(\"Regression Tree Confusion Matrix : \\n\", cm_reg_tree) \n",
    "accuracy_reg_tree = (cm_reg_tree.ravel()[0] + cm_reg_tree.ravel()[3]) / sum(cm_reg_tree.ravel())\n",
    "print('Regression Tree Model Accuracy :', accuracy_reg_tree)\n",
    "tpr_reg_tree = cm_reg_tree.ravel()[3] / (cm_reg_tree.ravel()[2] + cm_reg_tree.ravel()[3])\n",
    "fpr_reg_tree = cm_reg_tree.ravel()[1] / (cm_reg_tree.ravel()[0] + cm_reg_tree.ravel()[1])\n",
    "print('Regression Tree Model TPR :', tpr_reg_tree,'\\nRegression Tree Model FPR :', fpr_reg_tree)"
   ]
  },
  {
   "cell_type": "code",
   "execution_count": 25,
   "id": "c0899db2",
   "metadata": {},
   "outputs": [
    {
     "name": "stdout",
     "output_type": "stream",
     "text": [
      "Logistic Regression Predictions : \n",
      " 0    0\n",
      "1    0\n",
      "2    1\n",
      "3    0\n",
      "4    1\n",
      "dtype: int64\n",
      "Logistic Regression Confusion Matrix : \n",
      " [[1177  318]\n",
      " [ 610  583]]\n",
      "Logistic Regression Accuracy : 0.6547619047619048\n",
      "Logistic Regression Accuracy TPR : 0.4886839899413244 \n",
      "Logistic Regression Accuracy FPR : 0.21270903010033446\n"
     ]
    }
   ],
   "source": [
    "## Logistic Regression Model\n",
    "log_model_predictions_raw = log_model_d3.predict(yelp_test)\n",
    "log_model_predictions = pd.Series([1 if x > 0.5 else 0 for x in log_model_predictions_raw])\n",
    "print('Logistic Regression Predictions : \\n', log_model_predictions.head())\n",
    "cm_log_reg = confusion_matrix(y_test_new, log_model_predictions)\n",
    "print (\"Logistic Regression Confusion Matrix : \\n\", cm_log_reg) \n",
    "accuracy_log_reg = (cm_log_reg.ravel()[0] + cm_log_reg.ravel()[3]) / sum(cm_log_reg.ravel())\n",
    "print('Logistic Regression Accuracy :', accuracy_log_reg)\n",
    "tpr_log_reg = cm_log_reg.ravel()[3] / (cm_log_reg.ravel()[2] + cm_log_reg.ravel()[3])\n",
    "fpr_log_reg = cm_log_reg.ravel()[1] / (cm_log_reg.ravel()[0] + cm_log_reg.ravel()[1])\n",
    "print('Logistic Regression Accuracy TPR :', tpr_log_reg,'\\nLogistic Regression Accuracy FPR :', fpr_log_reg)"
   ]
  },
  {
   "cell_type": "code",
   "execution_count": 26,
   "id": "b83e9b49",
   "metadata": {},
   "outputs": [
    {
     "name": "stdout",
     "output_type": "stream",
     "text": [
      "Classification Tree Predictions : \n",
      " 0    0\n",
      "1    0\n",
      "2    1\n",
      "3    0\n",
      "4    0\n",
      "dtype: int64\n",
      "Classification Tree Confusion Matrix : \n",
      " [[1212  283]\n",
      " [ 615  578]]\n",
      "Classification Tree Accuracy : 0.6659226190476191\n",
      "Classification Tree TPR : 0.4844928751047779 \n",
      "Classification Tree FPR : 0.18929765886287625\n"
     ]
    }
   ],
   "source": [
    "## Classification Tree Model\n",
    "dec_tree_predictions = dec_tree_cv_d4.best_estimator_.predict(x_test)\n",
    "dec_tree_predictions = pd.Series(dec_tree_predictions)\n",
    "print('Classification Tree Predictions : \\n', dec_tree_predictions.head())\n",
    "cm_dec_tree = confusion_matrix(y_test_new, dec_tree_predictions)\n",
    "print (\"Classification Tree Confusion Matrix : \\n\", cm_dec_tree) \n",
    "accuracy_dec_tree = (cm_dec_tree.ravel()[0] + cm_dec_tree.ravel()[3]) / sum(cm_dec_tree.ravel())\n",
    "print('Classification Tree Accuracy :', accuracy_dec_tree)\n",
    "tpr_dec_tree = cm_dec_tree.ravel()[3] / (cm_dec_tree.ravel()[2] + cm_dec_tree.ravel()[3])\n",
    "fpr_dec_tree = cm_dec_tree.ravel()[1] / (cm_dec_tree.ravel()[0] + cm_dec_tree.ravel()[1])\n",
    "print('Classification Tree TPR :', tpr_dec_tree,'\\nClassification Tree FPR :', fpr_dec_tree)"
   ]
  },
  {
   "cell_type": "code",
   "execution_count": 49,
   "id": "53ac7c5c",
   "metadata": {
    "scrolled": true
   },
   "outputs": [
    {
     "data": {
      "text/html": [
       "<div>\n",
       "<style scoped>\n",
       "    .dataframe tbody tr th:only-of-type {\n",
       "        vertical-align: middle;\n",
       "    }\n",
       "\n",
       "    .dataframe tbody tr th {\n",
       "        vertical-align: top;\n",
       "    }\n",
       "\n",
       "    .dataframe thead th {\n",
       "        text-align: right;\n",
       "    }\n",
       "</style>\n",
       "<table border=\"1\" class=\"dataframe\">\n",
       "  <thead>\n",
       "    <tr style=\"text-align: right;\">\n",
       "      <th></th>\n",
       "      <th>Accuracy</th>\n",
       "      <th>TPR</th>\n",
       "      <th>FPR</th>\n",
       "    </tr>\n",
       "  </thead>\n",
       "  <tbody>\n",
       "    <tr>\n",
       "      <th>Baseline</th>\n",
       "      <td>0.556176</td>\n",
       "      <td>0.000000</td>\n",
       "      <td>0.000000</td>\n",
       "    </tr>\n",
       "    <tr>\n",
       "      <th>Linear Regression</th>\n",
       "      <td>0.621280</td>\n",
       "      <td>0.210394</td>\n",
       "      <td>0.050836</td>\n",
       "    </tr>\n",
       "    <tr>\n",
       "      <th>Regression Tree</th>\n",
       "      <td>0.607515</td>\n",
       "      <td>0.157586</td>\n",
       "      <td>0.033445</td>\n",
       "    </tr>\n",
       "    <tr>\n",
       "      <th>Logistic Regression</th>\n",
       "      <td>0.654762</td>\n",
       "      <td>0.488684</td>\n",
       "      <td>0.212709</td>\n",
       "    </tr>\n",
       "    <tr>\n",
       "      <th>Classification Tree</th>\n",
       "      <td>0.665923</td>\n",
       "      <td>0.484493</td>\n",
       "      <td>0.189298</td>\n",
       "    </tr>\n",
       "  </tbody>\n",
       "</table>\n",
       "</div>"
      ],
      "text/plain": [
       "                     Accuracy       TPR       FPR\n",
       "Baseline             0.556176  0.000000  0.000000\n",
       "Linear Regression    0.621280  0.210394  0.050836\n",
       "Regression Tree      0.607515  0.157586  0.033445\n",
       "Logistic Regression  0.654762  0.488684  0.212709\n",
       "Classification Tree  0.665923  0.484493  0.189298"
      ]
     },
     "execution_count": 49,
     "metadata": {},
     "output_type": "execute_result"
    }
   ],
   "source": [
    "data = { \n",
    "        'Accuracy':[accuracy_baseline, accuracy_lin_reg, accuracy_reg_tree, accuracy_log_reg, accuracy_dec_tree], \n",
    "        'TPR':[tpr_baseline, tpr_lin_reg, tpr_reg_tree, tpr_log_reg, tpr_dec_tree], \n",
    "        'FPR':[fpr_baseline, fpr_lin_reg, fpr_reg_tree, fpr_log_reg, fpr_dec_tree]}\n",
    "df = pd.DataFrame(data, index = ['Baseline', 'Linear Regression', 'Regression Tree', 'Logistic Regression', 'Classification Tree'])\n",
    "df"
   ]
  },
  {
   "cell_type": "markdown",
   "id": "86b3a706",
   "metadata": {},
   "source": [
    "## e)"
   ]
  },
  {
   "cell_type": "code",
   "execution_count": 28,
   "id": "daca13ce",
   "metadata": {
    "scrolled": true
   },
   "outputs": [],
   "source": [
    "## Tip 1\n",
    "combined_data = pd.concat([yelp_train, yelp_test])\n",
    "nan_data = combined_data.replace('(Missing)', np.nan)\n",
    "nan_data['missing_counts'] = nan_data.isnull().sum(axis = 1)"
   ]
  },
  {
   "cell_type": "code",
   "execution_count": 29,
   "id": "3adadb73",
   "metadata": {},
   "outputs": [
    {
     "data": {
      "text/html": [
       "<div>\n",
       "<style scoped>\n",
       "    .dataframe tbody tr th:only-of-type {\n",
       "        vertical-align: middle;\n",
       "    }\n",
       "\n",
       "    .dataframe tbody tr th {\n",
       "        vertical-align: top;\n",
       "    }\n",
       "\n",
       "    .dataframe thead th {\n",
       "        text-align: right;\n",
       "    }\n",
       "</style>\n",
       "<table border=\"1\" class=\"dataframe\">\n",
       "  <thead>\n",
       "    <tr style=\"text-align: right;\">\n",
       "      <th></th>\n",
       "      <th>stars</th>\n",
       "      <th>missing_counts</th>\n",
       "    </tr>\n",
       "  </thead>\n",
       "  <tbody>\n",
       "    <tr>\n",
       "      <th>0</th>\n",
       "      <td>1.0</td>\n",
       "      <td>8.789474</td>\n",
       "    </tr>\n",
       "    <tr>\n",
       "      <th>1</th>\n",
       "      <td>1.5</td>\n",
       "      <td>6.177778</td>\n",
       "    </tr>\n",
       "    <tr>\n",
       "      <th>2</th>\n",
       "      <td>2.0</td>\n",
       "      <td>5.617801</td>\n",
       "    </tr>\n",
       "    <tr>\n",
       "      <th>3</th>\n",
       "      <td>2.5</td>\n",
       "      <td>5.235676</td>\n",
       "    </tr>\n",
       "    <tr>\n",
       "      <th>4</th>\n",
       "      <td>3.0</td>\n",
       "      <td>4.947143</td>\n",
       "    </tr>\n",
       "    <tr>\n",
       "      <th>5</th>\n",
       "      <td>3.5</td>\n",
       "      <td>4.415820</td>\n",
       "    </tr>\n",
       "    <tr>\n",
       "      <th>6</th>\n",
       "      <td>4.0</td>\n",
       "      <td>3.935721</td>\n",
       "    </tr>\n",
       "    <tr>\n",
       "      <th>7</th>\n",
       "      <td>4.5</td>\n",
       "      <td>4.012950</td>\n",
       "    </tr>\n",
       "    <tr>\n",
       "      <th>8</th>\n",
       "      <td>5.0</td>\n",
       "      <td>6.012953</td>\n",
       "    </tr>\n",
       "  </tbody>\n",
       "</table>\n",
       "</div>"
      ],
      "text/plain": [
       "   stars  missing_counts\n",
       "0    1.0        8.789474\n",
       "1    1.5        6.177778\n",
       "2    2.0        5.617801\n",
       "3    2.5        5.235676\n",
       "4    3.0        4.947143\n",
       "5    3.5        4.415820\n",
       "6    4.0        3.935721\n",
       "7    4.5        4.012950\n",
       "8    5.0        6.012953"
      ]
     },
     "execution_count": 29,
     "metadata": {},
     "output_type": "execute_result"
    }
   ],
   "source": [
    "three_cols = nan_data[['stars', 'review_count', 'missing_counts']]\n",
    "three_cols.groupby('stars').mean().reset_index().drop(columns = {'review_count'})"
   ]
  },
  {
   "cell_type": "code",
   "execution_count": 30,
   "id": "116c6c43",
   "metadata": {},
   "outputs": [
    {
     "name": "stderr",
     "output_type": "stream",
     "text": [
      "/opt/conda/lib/python3.9/site-packages/seaborn/_decorators.py:36: FutureWarning: Pass the following variables as keyword args: x, y. From version 0.12, the only valid positional argument will be `data`, and passing other arguments without an explicit keyword will result in an error or misinterpretation.\n",
      "  warnings.warn(\n"
     ]
    },
    {
     "data": {
      "image/png": "[encoded data removed]",
      "text/plain": [
       "<Figure size 432x288 with 1 Axes>"
      ]
     },
     "metadata": {
      "needs_background": "light"
     },
     "output_type": "display_data"
    }
   ],
   "source": [
    "sns.barplot(three_cols['stars'], three_cols['missing_counts'], palette = 'Reds', edgecolor = 'w', ci=None);\n",
    "plt.show();"
   ]
  },
  {
   "cell_type": "code",
   "execution_count": 31,
   "id": "478d9711",
   "metadata": {},
   "outputs": [],
   "source": [
    "## Tip 2\n",
    "nan_data_1_0 = nan_data.replace('TRUE',1)\n",
    "nan_data_1_0 = nan_data_1_0.replace('FALSE', 0)"
   ]
  },
  {
   "cell_type": "code",
   "execution_count": 32,
   "id": "1d83146f",
   "metadata": {},
   "outputs": [
    {
     "name": "stdout",
     "output_type": "stream",
     "text": [
      "Proportion of non-missing values from 'Alcohol' column: 0.6556919642857143\n"
     ]
    }
   ],
   "source": [
    "stars_alcohol = nan_data[['stars', 'Alcohol']].replace(\"'none'\", np.nan)\n",
    "stars_alcohol['alcohol_served'] = ~stars_alcohol['Alcohol'].isna()\n",
    "stars_alcohol['alcohol_served'] = stars_alcohol['alcohol_served'].astype(int)\n",
    "stars_alcohol = stars_alcohol.drop(columns = {'Alcohol'})\n",
    "print(\"Proportion of non-missing values from 'Alcohol' column:\",sum(~nan_data_1_0['Alcohol'].isna()) / len(stars_alcohol))"
   ]
  },
  {
   "cell_type": "code",
   "execution_count": 33,
   "id": "584cd36e",
   "metadata": {},
   "outputs": [
    {
     "data": {
      "text/html": [
       "<div>\n",
       "<style scoped>\n",
       "    .dataframe tbody tr th:only-of-type {\n",
       "        vertical-align: middle;\n",
       "    }\n",
       "\n",
       "    .dataframe tbody tr th {\n",
       "        vertical-align: top;\n",
       "    }\n",
       "\n",
       "    .dataframe thead th {\n",
       "        text-align: right;\n",
       "    }\n",
       "</style>\n",
       "<table border=\"1\" class=\"dataframe\">\n",
       "  <thead>\n",
       "    <tr style=\"text-align: right;\">\n",
       "      <th></th>\n",
       "      <th>stars</th>\n",
       "      <th>proportion_serving_alcohol</th>\n",
       "    </tr>\n",
       "  </thead>\n",
       "  <tbody>\n",
       "    <tr>\n",
       "      <th>0</th>\n",
       "      <td>1.0</td>\n",
       "      <td>0.035088</td>\n",
       "    </tr>\n",
       "    <tr>\n",
       "      <th>1</th>\n",
       "      <td>1.5</td>\n",
       "      <td>0.094444</td>\n",
       "    </tr>\n",
       "    <tr>\n",
       "      <th>2</th>\n",
       "      <td>2.0</td>\n",
       "      <td>0.068063</td>\n",
       "    </tr>\n",
       "    <tr>\n",
       "      <th>3</th>\n",
       "      <td>2.5</td>\n",
       "      <td>0.198919</td>\n",
       "    </tr>\n",
       "    <tr>\n",
       "      <th>4</th>\n",
       "      <td>3.0</td>\n",
       "      <td>0.369286</td>\n",
       "    </tr>\n",
       "    <tr>\n",
       "      <th>5</th>\n",
       "      <td>3.5</td>\n",
       "      <td>0.424372</td>\n",
       "    </tr>\n",
       "    <tr>\n",
       "      <th>6</th>\n",
       "      <td>4.0</td>\n",
       "      <td>0.413223</td>\n",
       "    </tr>\n",
       "    <tr>\n",
       "      <th>7</th>\n",
       "      <td>4.5</td>\n",
       "      <td>0.307194</td>\n",
       "    </tr>\n",
       "    <tr>\n",
       "      <th>8</th>\n",
       "      <td>5.0</td>\n",
       "      <td>0.121762</td>\n",
       "    </tr>\n",
       "  </tbody>\n",
       "</table>\n",
       "</div>"
      ],
      "text/plain": [
       "   stars  proportion_serving_alcohol\n",
       "0    1.0                    0.035088\n",
       "1    1.5                    0.094444\n",
       "2    2.0                    0.068063\n",
       "3    2.5                    0.198919\n",
       "4    3.0                    0.369286\n",
       "5    3.5                    0.424372\n",
       "6    4.0                    0.413223\n",
       "7    4.5                    0.307194\n",
       "8    5.0                    0.121762"
      ]
     },
     "execution_count": 33,
     "metadata": {},
     "output_type": "execute_result"
    }
   ],
   "source": [
    "total_restaurants_by_stars = stars_alcohol.groupby('stars').count().reset_index()['alcohol_served']\n",
    "total_restaurants_serving_alc = stars_alcohol.groupby('stars').sum().reset_index()['alcohol_served']\n",
    "prop_serving_alc = total_restaurants_serving_alc / total_restaurants_by_stars\n",
    "star_to_alc_served = stars_alcohol.groupby('stars').count().reset_index().drop(columns = {'alcohol_served'})\n",
    "star_to_alc_served['proportion_serving_alcohol'] = prop_serving_alc\n",
    "star_to_alc_served"
   ]
  },
  {
   "cell_type": "code",
   "execution_count": 34,
   "id": "3b31b63a",
   "metadata": {},
   "outputs": [
    {
     "name": "stderr",
     "output_type": "stream",
     "text": [
      "/opt/conda/lib/python3.9/site-packages/seaborn/_decorators.py:36: FutureWarning: Pass the following variables as keyword args: x, y. From version 0.12, the only valid positional argument will be `data`, and passing other arguments without an explicit keyword will result in an error or misinterpretation.\n",
      "  warnings.warn(\n"
     ]
    },
    {
     "data": {
      "image/png": "[encoded data removed]",
      "text/plain": [
       "<Figure size 432x288 with 1 Axes>"
      ]
     },
     "metadata": {
      "needs_background": "light"
     },
     "output_type": "display_data"
    }
   ],
   "source": [
    "sns.barplot('stars', 'proportion_serving_alcohol', data = star_to_alc_served, palette = 'Greens', edgecolor = 'w', ci=None);\n",
    "plt.show();"
   ]
  },
  {
   "cell_type": "code",
   "execution_count": 35,
   "id": "4a456561",
   "metadata": {},
   "outputs": [
    {
     "data": {
      "text/html": [
       "<div>\n",
       "<style scoped>\n",
       "    .dataframe tbody tr th:only-of-type {\n",
       "        vertical-align: middle;\n",
       "    }\n",
       "\n",
       "    .dataframe tbody tr th {\n",
       "        vertical-align: top;\n",
       "    }\n",
       "\n",
       "    .dataframe thead th {\n",
       "        text-align: right;\n",
       "    }\n",
       "</style>\n",
       "<table border=\"1\" class=\"dataframe\">\n",
       "  <thead>\n",
       "    <tr style=\"text-align: right;\">\n",
       "      <th></th>\n",
       "      <th>stars</th>\n",
       "      <th>proportion_serving_alcohol</th>\n",
       "    </tr>\n",
       "  </thead>\n",
       "  <tbody>\n",
       "    <tr>\n",
       "      <th>0</th>\n",
       "      <td>1.0</td>\n",
       "      <td>0.333333</td>\n",
       "    </tr>\n",
       "    <tr>\n",
       "      <th>1</th>\n",
       "      <td>1.5</td>\n",
       "      <td>0.188889</td>\n",
       "    </tr>\n",
       "    <tr>\n",
       "      <th>2</th>\n",
       "      <td>2.0</td>\n",
       "      <td>0.127451</td>\n",
       "    </tr>\n",
       "    <tr>\n",
       "      <th>3</th>\n",
       "      <td>2.5</td>\n",
       "      <td>0.327402</td>\n",
       "    </tr>\n",
       "    <tr>\n",
       "      <th>4</th>\n",
       "      <td>3.0</td>\n",
       "      <td>0.568757</td>\n",
       "    </tr>\n",
       "    <tr>\n",
       "      <th>5</th>\n",
       "      <td>3.5</td>\n",
       "      <td>0.589896</td>\n",
       "    </tr>\n",
       "    <tr>\n",
       "      <th>6</th>\n",
       "      <td>4.0</td>\n",
       "      <td>0.562852</td>\n",
       "    </tr>\n",
       "    <tr>\n",
       "      <th>7</th>\n",
       "      <td>4.5</td>\n",
       "      <td>0.466157</td>\n",
       "    </tr>\n",
       "    <tr>\n",
       "      <th>8</th>\n",
       "      <td>5.0</td>\n",
       "      <td>0.333333</td>\n",
       "    </tr>\n",
       "  </tbody>\n",
       "</table>\n",
       "</div>"
      ],
      "text/plain": [
       "   stars  proportion_serving_alcohol\n",
       "0    1.0                    0.333333\n",
       "1    1.5                    0.188889\n",
       "2    2.0                    0.127451\n",
       "3    2.5                    0.327402\n",
       "4    3.0                    0.568757\n",
       "5    3.5                    0.589896\n",
       "6    4.0                    0.562852\n",
       "7    4.5                    0.466157\n",
       "8    5.0                    0.333333"
      ]
     },
     "execution_count": 35,
     "metadata": {},
     "output_type": "execute_result"
    }
   ],
   "source": [
    "stars_alc_dropped = nan_data[['stars', 'Alcohol']].dropna()\n",
    "stars_alc_dropped = stars_alc_dropped.replace(\"'none'\", np.nan)\n",
    "stars_alc_dropped['alcohol_served'] = (~stars_alc_dropped.isna())['Alcohol']\n",
    "stars_alc_dropped = stars_alc_dropped.drop(columns = {'Alcohol'})\n",
    "total_res = stars_alc_dropped.groupby('stars').count().reset_index()['alcohol_served']\n",
    "serving_alc = stars_alc_dropped.groupby('stars').sum().reset_index()['alcohol_served']\n",
    "prop_serving_alc = serving_alc / total_res\n",
    "star_to_alc_served_dropped = stars_alc_dropped.groupby('stars').count().reset_index().drop(columns = {'alcohol_served'})\n",
    "star_to_alc_served_dropped['proportion_serving_alcohol'] = prop_serving_alc\n",
    "star_to_alc_served_dropped"
   ]
  },
  {
   "cell_type": "code",
   "execution_count": 36,
   "id": "17de7e87",
   "metadata": {},
   "outputs": [
    {
     "name": "stderr",
     "output_type": "stream",
     "text": [
      "/opt/conda/lib/python3.9/site-packages/seaborn/_decorators.py:36: FutureWarning: Pass the following variables as keyword args: x, y. From version 0.12, the only valid positional argument will be `data`, and passing other arguments without an explicit keyword will result in an error or misinterpretation.\n",
      "  warnings.warn(\n"
     ]
    },
    {
     "data": {
      "image/png": "[encoded data removed]",
      "text/plain": [
       "<Figure size 432x288 with 1 Axes>"
      ]
     },
     "metadata": {
      "needs_background": "light"
     },
     "output_type": "display_data"
    }
   ],
   "source": [
    "sns.barplot('stars', 'proportion_serving_alcohol', data = star_to_alc_served_dropped, palette = 'Greens', edgecolor = 'w', ci=None);\n",
    "plt.show();"
   ]
  },
  {
   "cell_type": "code",
   "execution_count": 37,
   "id": "c8f087d0",
   "metadata": {
    "scrolled": false
   },
   "outputs": [
    {
     "data": {
      "image/png": "[encoded data removed]",
      "text/plain": [
       "<Figure size 2160x1368 with 1 Axes>"
      ]
     },
     "metadata": {
      "needs_background": "light"
     },
     "output_type": "display_data"
    }
   ],
   "source": [
    "## Tip 3\n",
    "\n",
    "plt.figure(figsize=(30,19));\n",
    "plot_tree(dec_tree_cv_d4.best_estimator_, \n",
    "          feature_names=x_train_new.columns, \n",
    "          class_names=['0','1'],\n",
    "          filled=True,\n",
    "          impurity=True,\n",
    "          rounded=True,\n",
    "          fontsize=12,\n",
    "          max_depth=4);"
   ]
  },
  {
   "cell_type": "code",
   "execution_count": 38,
   "id": "3b5ba993",
   "metadata": {},
   "outputs": [
    {
     "name": "stdout",
     "output_type": "stream",
     "text": [
      "Proportion of non-missing values from 'RestaurantsReservations' column: 0.6840401785714286\n"
     ]
    }
   ],
   "source": [
    "print(\"Proportion of non-missing values from 'RestaurantsReservations' column:\", (~nan_data['RestaurantsReservations'].isnull()).sum()/len(nan_data))"
   ]
  },
  {
   "cell_type": "code",
   "execution_count": 39,
   "id": "216d54cd",
   "metadata": {},
   "outputs": [
    {
     "data": {
      "text/html": [
       "<div>\n",
       "<style scoped>\n",
       "    .dataframe tbody tr th:only-of-type {\n",
       "        vertical-align: middle;\n",
       "    }\n",
       "\n",
       "    .dataframe tbody tr th {\n",
       "        vertical-align: top;\n",
       "    }\n",
       "\n",
       "    .dataframe thead th {\n",
       "        text-align: right;\n",
       "    }\n",
       "</style>\n",
       "<table border=\"1\" class=\"dataframe\">\n",
       "  <thead>\n",
       "    <tr style=\"text-align: right;\">\n",
       "      <th></th>\n",
       "      <th>stars</th>\n",
       "      <th>proportion_with_reservation_option</th>\n",
       "    </tr>\n",
       "  </thead>\n",
       "  <tbody>\n",
       "    <tr>\n",
       "      <th>0</th>\n",
       "      <td>1.0</td>\n",
       "      <td>0.166667</td>\n",
       "    </tr>\n",
       "    <tr>\n",
       "      <th>1</th>\n",
       "      <td>1.5</td>\n",
       "      <td>0.034783</td>\n",
       "    </tr>\n",
       "    <tr>\n",
       "      <th>2</th>\n",
       "      <td>2.0</td>\n",
       "      <td>0.081081</td>\n",
       "    </tr>\n",
       "    <tr>\n",
       "      <th>3</th>\n",
       "      <td>2.5</td>\n",
       "      <td>0.165289</td>\n",
       "    </tr>\n",
       "    <tr>\n",
       "      <th>4</th>\n",
       "      <td>3.0</td>\n",
       "      <td>0.286458</td>\n",
       "    </tr>\n",
       "    <tr>\n",
       "      <th>5</th>\n",
       "      <td>3.5</td>\n",
       "      <td>0.392704</td>\n",
       "    </tr>\n",
       "    <tr>\n",
       "      <th>6</th>\n",
       "      <td>4.0</td>\n",
       "      <td>0.429104</td>\n",
       "    </tr>\n",
       "    <tr>\n",
       "      <th>7</th>\n",
       "      <td>4.5</td>\n",
       "      <td>0.442117</td>\n",
       "    </tr>\n",
       "    <tr>\n",
       "      <th>8</th>\n",
       "      <td>5.0</td>\n",
       "      <td>0.409091</td>\n",
       "    </tr>\n",
       "  </tbody>\n",
       "</table>\n",
       "</div>"
      ],
      "text/plain": [
       "   stars  proportion_with_reservation_option\n",
       "0    1.0                            0.166667\n",
       "1    1.5                            0.034783\n",
       "2    2.0                            0.081081\n",
       "3    2.5                            0.165289\n",
       "4    3.0                            0.286458\n",
       "5    3.5                            0.392704\n",
       "6    4.0                            0.429104\n",
       "7    4.5                            0.442117\n",
       "8    5.0                            0.409091"
      ]
     },
     "execution_count": 39,
     "metadata": {},
     "output_type": "execute_result"
    }
   ],
   "source": [
    "stars_res = nan_data_1_0[['stars','RestaurantsReservations']]\n",
    "prop_yes = stars_res.groupby('stars').sum().reset_index()['RestaurantsReservations']\n",
    "total_res = stars_res.groupby('stars').count().reset_index()['RestaurantsReservations']\n",
    "prop_res = prop_yes/total_res\n",
    "res_df = stars_res.groupby('stars').count().reset_index().drop(columns = {'RestaurantsReservations'})\n",
    "res_df['proportion_with_reservation_option'] = prop_res\n",
    "res_df"
   ]
  },
  {
   "cell_type": "code",
   "execution_count": 40,
   "id": "8d81ad6f",
   "metadata": {
    "scrolled": true
   },
   "outputs": [
    {
     "name": "stderr",
     "output_type": "stream",
     "text": [
      "/opt/conda/lib/python3.9/site-packages/seaborn/_decorators.py:36: FutureWarning: Pass the following variables as keyword args: x, y. From version 0.12, the only valid positional argument will be `data`, and passing other arguments without an explicit keyword will result in an error or misinterpretation.\n",
      "  warnings.warn(\n"
     ]
    },
    {
     "data": {
      "image/png": "[encoded data removed]",
      "text/plain": [
       "<Figure size 432x288 with 1 Axes>"
      ]
     },
     "metadata": {
      "needs_background": "light"
     },
     "output_type": "display_data"
    }
   ],
   "source": [
    "sns.barplot('stars', 'proportion_with_reservation_option', data = res_df, palette = 'Blues');"
   ]
  },
  {
   "cell_type": "code",
   "execution_count": 54,
   "id": "bcf7fa26",
   "metadata": {},
   "outputs": [
    {
     "data": {
      "text/plain": [
       "41334"
      ]
     },
     "execution_count": 54,
     "metadata": {},
     "output_type": "execute_result"
    }
   ],
   "source": [
    "nan_data.isna().sum().sum()"
   ]
  },
  {
   "cell_type": "code",
   "execution_count": 59,
   "id": "370ff791",
   "metadata": {},
   "outputs": [
    {
     "data": {
      "text/plain": [
       "75146"
      ]
     },
     "execution_count": 59,
     "metadata": {},
     "output_type": "execute_result"
    }
   ],
   "source": [
    "temp_data = nan_data.drop(columns = {'fourOrAbove', 'missing_counts'})\n",
    "(~temp_data.isna()).sum().sum()"
   ]
  },
  {
   "cell_type": "code",
   "execution_count": 62,
   "id": "2687b4be",
   "metadata": {},
   "outputs": [
    {
     "data": {
      "text/html": [
       "<div>\n",
       "<style scoped>\n",
       "    .dataframe tbody tr th:only-of-type {\n",
       "        vertical-align: middle;\n",
       "    }\n",
       "\n",
       "    .dataframe tbody tr th {\n",
       "        vertical-align: top;\n",
       "    }\n",
       "\n",
       "    .dataframe thead th {\n",
       "        text-align: right;\n",
       "    }\n",
       "</style>\n",
       "<table border=\"1\" class=\"dataframe\">\n",
       "  <thead>\n",
       "    <tr style=\"text-align: right;\">\n",
       "      <th></th>\n",
       "      <th>stars</th>\n",
       "      <th>review_count</th>\n",
       "      <th>GoodForKids</th>\n",
       "      <th>Alcohol</th>\n",
       "      <th>BusinessAcceptsCreditCards</th>\n",
       "      <th>WiFi</th>\n",
       "      <th>BikeParking</th>\n",
       "      <th>ByAppointmentOnly</th>\n",
       "      <th>WheelechairAccessible</th>\n",
       "      <th>OutdoorSeating</th>\n",
       "      <th>RestaurantsReservations</th>\n",
       "      <th>DogsAllowed</th>\n",
       "      <th>Caters</th>\n",
       "    </tr>\n",
       "  </thead>\n",
       "  <tbody>\n",
       "    <tr>\n",
       "      <th>0</th>\n",
       "      <td>3.0</td>\n",
       "      <td>53</td>\n",
       "      <td>TRUE</td>\n",
       "      <td>NaN</td>\n",
       "      <td>TRUE</td>\n",
       "      <td>'free'</td>\n",
       "      <td>TRUE</td>\n",
       "      <td>NaN</td>\n",
       "      <td>NaN</td>\n",
       "      <td>FALSE</td>\n",
       "      <td>TRUE</td>\n",
       "      <td>NaN</td>\n",
       "      <td>NaN</td>\n",
       "    </tr>\n",
       "    <tr>\n",
       "      <th>1</th>\n",
       "      <td>5.0</td>\n",
       "      <td>6</td>\n",
       "      <td>NaN</td>\n",
       "      <td>NaN</td>\n",
       "      <td>TRUE</td>\n",
       "      <td>NaN</td>\n",
       "      <td>NaN</td>\n",
       "      <td>FALSE</td>\n",
       "      <td>NaN</td>\n",
       "      <td>NaN</td>\n",
       "      <td>NaN</td>\n",
       "      <td>NaN</td>\n",
       "      <td>NaN</td>\n",
       "    </tr>\n",
       "    <tr>\n",
       "      <th>2</th>\n",
       "      <td>2.5</td>\n",
       "      <td>7</td>\n",
       "      <td>NaN</td>\n",
       "      <td>NaN</td>\n",
       "      <td>TRUE</td>\n",
       "      <td>NaN</td>\n",
       "      <td>FALSE</td>\n",
       "      <td>NaN</td>\n",
       "      <td>NaN</td>\n",
       "      <td>NaN</td>\n",
       "      <td>NaN</td>\n",
       "      <td>NaN</td>\n",
       "      <td>NaN</td>\n",
       "    </tr>\n",
       "    <tr>\n",
       "      <th>3</th>\n",
       "      <td>3.5</td>\n",
       "      <td>73</td>\n",
       "      <td>TRUE</td>\n",
       "      <td>'none'</td>\n",
       "      <td>TRUE</td>\n",
       "      <td>'no'</td>\n",
       "      <td>TRUE</td>\n",
       "      <td>NaN</td>\n",
       "      <td>TRUE</td>\n",
       "      <td>FALSE</td>\n",
       "      <td>FALSE</td>\n",
       "      <td>NaN</td>\n",
       "      <td>TRUE</td>\n",
       "    </tr>\n",
       "    <tr>\n",
       "      <th>4</th>\n",
       "      <td>4.0</td>\n",
       "      <td>203</td>\n",
       "      <td>TRUE</td>\n",
       "      <td>'beer_and_wine'</td>\n",
       "      <td>TRUE</td>\n",
       "      <td>'free'</td>\n",
       "      <td>TRUE</td>\n",
       "      <td>NaN</td>\n",
       "      <td>TRUE</td>\n",
       "      <td>TRUE</td>\n",
       "      <td>FALSE</td>\n",
       "      <td>NaN</td>\n",
       "      <td>TRUE</td>\n",
       "    </tr>\n",
       "    <tr>\n",
       "      <th>...</th>\n",
       "      <td>...</td>\n",
       "      <td>...</td>\n",
       "      <td>...</td>\n",
       "      <td>...</td>\n",
       "      <td>...</td>\n",
       "      <td>...</td>\n",
       "      <td>...</td>\n",
       "      <td>...</td>\n",
       "      <td>...</td>\n",
       "      <td>...</td>\n",
       "      <td>...</td>\n",
       "      <td>...</td>\n",
       "      <td>...</td>\n",
       "    </tr>\n",
       "    <tr>\n",
       "      <th>2683</th>\n",
       "      <td>3.5</td>\n",
       "      <td>40</td>\n",
       "      <td>NaN</td>\n",
       "      <td>NaN</td>\n",
       "      <td>TRUE</td>\n",
       "      <td>NaN</td>\n",
       "      <td>TRUE</td>\n",
       "      <td>NaN</td>\n",
       "      <td>TRUE</td>\n",
       "      <td>NaN</td>\n",
       "      <td>NaN</td>\n",
       "      <td>NaN</td>\n",
       "      <td>FALSE</td>\n",
       "    </tr>\n",
       "    <tr>\n",
       "      <th>2684</th>\n",
       "      <td>3.5</td>\n",
       "      <td>36</td>\n",
       "      <td>FALSE</td>\n",
       "      <td>'full_bar'</td>\n",
       "      <td>TRUE</td>\n",
       "      <td>'no'</td>\n",
       "      <td>TRUE</td>\n",
       "      <td>NaN</td>\n",
       "      <td>TRUE</td>\n",
       "      <td>FALSE</td>\n",
       "      <td>TRUE</td>\n",
       "      <td>NaN</td>\n",
       "      <td>FALSE</td>\n",
       "    </tr>\n",
       "    <tr>\n",
       "      <th>2685</th>\n",
       "      <td>3.5</td>\n",
       "      <td>285</td>\n",
       "      <td>TRUE</td>\n",
       "      <td>'beer_and_wine'</td>\n",
       "      <td>TRUE</td>\n",
       "      <td>'free'</td>\n",
       "      <td>TRUE</td>\n",
       "      <td>NaN</td>\n",
       "      <td>NaN</td>\n",
       "      <td>TRUE</td>\n",
       "      <td>FALSE</td>\n",
       "      <td>NaN</td>\n",
       "      <td>FALSE</td>\n",
       "    </tr>\n",
       "    <tr>\n",
       "      <th>2686</th>\n",
       "      <td>3.5</td>\n",
       "      <td>177</td>\n",
       "      <td>NaN</td>\n",
       "      <td>NaN</td>\n",
       "      <td>TRUE</td>\n",
       "      <td>'no'</td>\n",
       "      <td>TRUE</td>\n",
       "      <td>FALSE</td>\n",
       "      <td>TRUE</td>\n",
       "      <td>FALSE</td>\n",
       "      <td>FALSE</td>\n",
       "      <td>FALSE</td>\n",
       "      <td>FALSE</td>\n",
       "    </tr>\n",
       "    <tr>\n",
       "      <th>2687</th>\n",
       "      <td>1.5</td>\n",
       "      <td>92</td>\n",
       "      <td>TRUE</td>\n",
       "      <td>'none'</td>\n",
       "      <td>TRUE</td>\n",
       "      <td>NaN</td>\n",
       "      <td>TRUE</td>\n",
       "      <td>NaN</td>\n",
       "      <td>NaN</td>\n",
       "      <td>FALSE</td>\n",
       "      <td>FALSE</td>\n",
       "      <td>NaN</td>\n",
       "      <td>TRUE</td>\n",
       "    </tr>\n",
       "  </tbody>\n",
       "</table>\n",
       "<p>8960 rows × 13 columns</p>\n",
       "</div>"
      ],
      "text/plain": [
       "      stars  review_count GoodForKids          Alcohol  \\\n",
       "0       3.0            53        TRUE              NaN   \n",
       "1       5.0             6         NaN              NaN   \n",
       "2       2.5             7         NaN              NaN   \n",
       "3       3.5            73        TRUE           'none'   \n",
       "4       4.0           203        TRUE  'beer_and_wine'   \n",
       "...     ...           ...         ...              ...   \n",
       "2683    3.5            40         NaN              NaN   \n",
       "2684    3.5            36       FALSE       'full_bar'   \n",
       "2685    3.5           285        TRUE  'beer_and_wine'   \n",
       "2686    3.5           177         NaN              NaN   \n",
       "2687    1.5            92        TRUE           'none'   \n",
       "\n",
       "     BusinessAcceptsCreditCards    WiFi BikeParking ByAppointmentOnly  \\\n",
       "0                          TRUE  'free'        TRUE               NaN   \n",
       "1                          TRUE     NaN         NaN             FALSE   \n",
       "2                          TRUE     NaN       FALSE               NaN   \n",
       "3                          TRUE    'no'        TRUE               NaN   \n",
       "4                          TRUE  'free'        TRUE               NaN   \n",
       "...                         ...     ...         ...               ...   \n",
       "2683                       TRUE     NaN        TRUE               NaN   \n",
       "2684                       TRUE    'no'        TRUE               NaN   \n",
       "2685                       TRUE  'free'        TRUE               NaN   \n",
       "2686                       TRUE    'no'        TRUE             FALSE   \n",
       "2687                       TRUE     NaN        TRUE               NaN   \n",
       "\n",
       "     WheelechairAccessible OutdoorSeating RestaurantsReservations DogsAllowed  \\\n",
       "0                      NaN          FALSE                    TRUE         NaN   \n",
       "1                      NaN            NaN                     NaN         NaN   \n",
       "2                      NaN            NaN                     NaN         NaN   \n",
       "3                     TRUE          FALSE                   FALSE         NaN   \n",
       "4                     TRUE           TRUE                   FALSE         NaN   \n",
       "...                    ...            ...                     ...         ...   \n",
       "2683                  TRUE            NaN                     NaN         NaN   \n",
       "2684                  TRUE          FALSE                    TRUE         NaN   \n",
       "2685                   NaN           TRUE                   FALSE         NaN   \n",
       "2686                  TRUE          FALSE                   FALSE       FALSE   \n",
       "2687                   NaN          FALSE                   FALSE         NaN   \n",
       "\n",
       "     Caters  \n",
       "0       NaN  \n",
       "1       NaN  \n",
       "2       NaN  \n",
       "3      TRUE  \n",
       "4      TRUE  \n",
       "...     ...  \n",
       "2683  FALSE  \n",
       "2684  FALSE  \n",
       "2685  FALSE  \n",
       "2686  FALSE  \n",
       "2687   TRUE  \n",
       "\n",
       "[8960 rows x 13 columns]"
      ]
     },
     "execution_count": 62,
     "metadata": {},
     "output_type": "execute_result"
    }
   ],
   "source": [
    "temp_data"
   ]
  },
  {
   "cell_type": "code",
   "execution_count": 63,
   "id": "d44dc8e9",
   "metadata": {},
   "outputs": [
    {
     "data": {
      "text/plain": [
       "116480"
      ]
     },
     "execution_count": 63,
     "metadata": {},
     "output_type": "execute_result"
    }
   ],
   "source": [
    "8960*13"
   ]
  },
  {
   "cell_type": "code",
   "execution_count": 64,
   "id": "c4a72939",
   "metadata": {},
   "outputs": [
    {
     "data": {
      "text/plain": [
       "0.3548592032967033"
      ]
     },
     "execution_count": 64,
     "metadata": {},
     "output_type": "execute_result"
    }
   ],
   "source": [
    "41334/116480"
   ]
  },
  {
   "cell_type": "code",
   "execution_count": null,
   "id": "cb69fd02",
   "metadata": {},
   "outputs": [],
   "source": []
  }
 ],
 "metadata": {
  "kernelspec": {
   "display_name": "Python 3 (ipykernel)",
   "language": "python",
   "name": "python3"
  },
  "language_info": {
   "codemirror_mode": {
    "name": "ipython",
    "version": 3
   },
   "file_extension": ".py",
   "mimetype": "text/x-python",
   "name": "python",
   "nbconvert_exporter": "python",
   "pygments_lexer": "ipython3",
   "version": "3.9.9"
  }
 },
 "nbformat": 4,
 "nbformat_minor": 5
}
